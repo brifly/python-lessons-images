{
 "cells": [
  {
   "cell_type": "markdown",
   "metadata": {},
   "source": [
    "# Python Basics - Control Flow\n",
    "\n",
    "In this lesson we will learn about control flow in python programming by looking at the if statement and the for loop.\n",
    "\n",
    "## If Statement\n",
    "\n",
    "The `if` statement tells our program to do something only when some `condition` is true. It takes the form:\n",
    "\n",
    "`if <condition>:\n",
    "    <statements>`\n",
    "    \n",
    "The condition is any expression that returns a `Boolean`, for example:"
   ]
  },
  {
   "cell_type": "code",
   "execution_count": null,
   "metadata": {},
   "outputs": [],
   "source": [
    "if True:\n",
    "    print(\"Condition is True!\")"
   ]
  },
  {
   "cell_type": "code",
   "execution_count": null,
   "metadata": {},
   "outputs": [],
   "source": [
    "if False:\n",
    "    print(\"Condition is False!\")"
   ]
  },
  {
   "cell_type": "code",
   "execution_count": null,
   "metadata": {},
   "outputs": [],
   "source": [
    "one_plus_one = 1 + 1\n",
    "one_plus_one_equals_two = one_plus_one == 2\n",
    "\n",
    "if one_plus_one_equals_two:\n",
    "    print(\"1 + 1 = 2!\")"
   ]
  },
  {
   "cell_type": "code",
   "execution_count": null,
   "metadata": {},
   "outputs": [],
   "source": [
    "my_string = 'This is a string'\n",
    "\n",
    "if len(my_string) <= 10:\n",
    "    print(\"String is short!\")\n",
    "\n",
    "if len(my_string) > 10:\n",
    "    print(\"String is long!\")"
   ]
  },
  {
   "cell_type": "markdown",
   "metadata": {},
   "source": [
    "### Indenting\n",
    "\n",
    "We need to put some spaces (usually 4) before the lines that are in the part of the statements of the if block. These spaces are called the **__indent__** and they tell python which statements are part of the if and which are not. This way we can do multiple things inside an if statement, e.g.:"
   ]
  },
  {
   "cell_type": "code",
   "execution_count": null,
   "metadata": {},
   "outputs": [],
   "source": [
    "if 1 + 1 == 3:\n",
    "    print(\"Inside Indent\")\n",
    "    print(\"1 + 1 equals 3\")    \n",
    "print(\"Outside Indent\")"
   ]
  },
  {
   "cell_type": "code",
   "execution_count": null,
   "metadata": {},
   "outputs": [],
   "source": [
    "if 1 + 1 == 3:\n",
    "    print(\"Inside Indent\")\n",
    "print(\"1 + 1 equals 3\")    \n",
    "print(\"Outside Indent\")"
   ]
  },
  {
   "cell_type": "code",
   "execution_count": null,
   "metadata": {},
   "outputs": [],
   "source": [
    "if 1 + 1 == 2:\n",
    "    print(\"Inside Indent\")\n",
    "    print(\"1 + 1 equals 2\")    \n",
    "print(\"Outside Indent\")"
   ]
  },
  {
   "cell_type": "markdown",
   "metadata": {},
   "source": [
    "### Else\n",
    "\n",
    "If statements can also have one `else` clause, which tells python what to do when the condition is not true:"
   ]
  },
  {
   "cell_type": "code",
   "execution_count": null,
   "metadata": {},
   "outputs": [],
   "source": [
    "if 1 + 1 == 2:\n",
    "    print('1 + 1 equals 2!')\n",
    "else:\n",
    "    print('1 + 1 does not equal 2!')"
   ]
  },
  {
   "cell_type": "code",
   "execution_count": null,
   "metadata": {},
   "outputs": [],
   "source": [
    "if 1 + 1 == 3:\n",
    "    print('1 + 1 equals 3!')\n",
    "else:\n",
    "    print('1 + 1 does not equal 3!')"
   ]
  },
  {
   "cell_type": "markdown",
   "metadata": {},
   "source": [
    "### Elif\n",
    "\n",
    "If block can also have multiple `elif` clauses. Elif is short for 'else if', and it allows you to check another condition as part of your `if`: "
   ]
  },
  {
   "cell_type": "code",
   "execution_count": null,
   "metadata": {},
   "outputs": [],
   "source": [
    "size = 100\n",
    "if size < 50:\n",
    "    print('Size is small')\n",
    "elif size < 120:\n",
    "    print('Size is medium')\n",
    "else:\n",
    "    print('Size is large')"
   ]
  },
  {
   "cell_type": "markdown",
   "metadata": {},
   "source": [
    "An `if` block can have more than one `elif` clauses:"
   ]
  },
  {
   "cell_type": "code",
   "execution_count": null,
   "metadata": {},
   "outputs": [],
   "source": [
    "str_len = len('This is my string')\n",
    "if str_len < 5:\n",
    "    print(\"Tiny String!\")\n",
    "elif str_len < 10:\n",
    "    print(\"Small String!\")\n",
    "elif str_len < 15:\n",
    "    print(\"Medium String\")\n",
    "elif str_len < 20:\n",
    "    print(\"Large String\")\n",
    "else:\n",
    "    print(\"Huge String\")"
   ]
  },
  {
   "cell_type": "markdown",
   "metadata": {},
   "source": [
    "Python checks each of the `elif` conditions until one of them returns true, and then it exits the `if` block. In the above case, our string length was `17`. We first checked if the length was less than `5`, which was `False`, so we move to the `elif str_len < 10` - this is also `False` next we check `str_len < 15`, again `False` so we move to the last `elif` statement `str_len < 20` which is `True` - we then execute the statements in that `elif` block and exit the `if` block. "
   ]
  },
  {
   "cell_type": "code",
   "execution_count": null,
   "metadata": {},
   "outputs": [],
   "source": [
    "str_len = len('This is my str')\n",
    "if str_len < 5:\n",
    "    print(\"Tiny String!\")\n",
    "elif str_len < 10:\n",
    "    print(\"Small String!\")\n",
    "elif str_len < 15:\n",
    "    print(\"Medium String\")\n",
    "elif str_len < 20:\n",
    "    print(\"Large String\")\n",
    "else:\n",
    "    print(\"Huge String\")"
   ]
  },
  {
   "cell_type": "markdown",
   "metadata": {},
   "source": [
    "In this example, we stopped at `str_len < 15` and printed 'Medium String'. Even though `str_len < 20` is also `True` we didnt reach that statement because we stop checking additional clauses once we find one that is `True`."
   ]
  },
  {
   "cell_type": "markdown",
   "metadata": {},
   "source": [
    "### Nesting If Statements\n",
    "\n",
    "We can put one if statement inside another, which is called nesting:"
   ]
  },
  {
   "cell_type": "code",
   "execution_count": null,
   "metadata": {},
   "outputs": [],
   "source": [
    "str_len = len('This is my str')\n",
    "i = 7\n",
    "\n",
    "if str_len < 15:\n",
    "    if i == 6:\n",
    "        print('Medium string and i == 6')\n",
    "    else:\n",
    "        print('Medium string and i != 6')"
   ]
  },
  {
   "cell_type": "markdown",
   "metadata": {},
   "source": [
    "A better way of doing this however would be to change the if condition we are checking:"
   ]
  },
  {
   "cell_type": "code",
   "execution_count": null,
   "metadata": {},
   "outputs": [],
   "source": [
    "if str_len < 15 and i == 6:\n",
    "    print('Medium string and i == 6')\n",
    "else:\n",
    "    print('Medium string and i != 6')"
   ]
  },
  {
   "cell_type": "markdown",
   "metadata": {},
   "source": [
    "This code does exactly the same thing but uses less nesting - which makes it easier to read and understand."
   ]
  },
  {
   "cell_type": "markdown",
   "metadata": {},
   "source": [
    "## For Loop\n",
    "\n",
    "A for loop allows us to run some statements multiple times for different data. The syntax of a for loop is:\n",
    "\n",
    "`for <variable> in <list>:\n",
    "   <statements>`\n",
    "   \n",
    "Just like our `if` statement we indent to show which statements are inside the loop. \n",
    "\n",
    "Lets look at the `<list>` part of the statement.\n",
    "\n",
    "### Lists\n",
    "\n",
    "A list in python is just a list of values. To create a list we separate the values with commas, and put them inside square brackets:"
   ]
  },
  {
   "cell_type": "code",
   "execution_count": null,
   "metadata": {},
   "outputs": [],
   "source": [
    "numbers = [1, 2, 3, 4]\n",
    "print(numbers)"
   ]
  },
  {
   "cell_type": "markdown",
   "metadata": {},
   "source": [
    "We can also put different types in a list:"
   ]
  },
  {
   "cell_type": "code",
   "execution_count": null,
   "metadata": {},
   "outputs": [],
   "source": [
    "strings = ['this', 'is', 'a', 'list']\n",
    "print(strings)"
   ]
  },
  {
   "cell_type": "markdown",
   "metadata": {},
   "source": [
    "And we can mix types in a list:"
   ]
  },
  {
   "cell_type": "code",
   "execution_count": null,
   "metadata": {},
   "outputs": [],
   "source": [
    "mixed = ['this', 'list', 'has', 5, 'items']\n",
    "print(mixed)"
   ]
  },
  {
   "cell_type": "markdown",
   "metadata": {},
   "source": [
    "A list can even contain another list:"
   ]
  },
  {
   "cell_type": "code",
   "execution_count": null,
   "metadata": {},
   "outputs": [],
   "source": [
    "list1 = ['this', 'is', 'a', 'list']\n",
    "list2 = [1, 2, 3, 5]\n",
    "list3 = [list1, list2]\n",
    "print(list3)"
   ]
  },
  {
   "cell_type": "markdown",
   "metadata": {},
   "source": [
    "We can also get a single elment out of our list by using its **__index__**:"
   ]
  },
  {
   "cell_type": "code",
   "execution_count": null,
   "metadata": {},
   "outputs": [],
   "source": [
    "strings = ['this', 'is', 'a', 'list']\n",
    "print(strings[0])\n",
    "print(strings[3])"
   ]
  },
  {
   "cell_type": "markdown",
   "metadata": {},
   "source": [
    "<div class=\"alert alert-warning\">\n",
    "    Indexes in lists start from 0, so the first element of `strings` is `strings[0]` the 3rd is `strings[2]`\n",
    "</div>"
   ]
  },
  {
   "cell_type": "markdown",
   "metadata": {},
   "source": [
    "### For Loop and Lists\n",
    "\n",
    "Going back to our loop syntax we have:\n",
    "\n",
    "`for <variable> in <list>:\n",
    "    <statements>`\n",
    "    \n",
    "For `<variable>`, we pick a variable name and python will run the statements once for each item in the list. Every time the statements run, the variable will be assigned the current value in the list.\n",
    "\n",
    "So the statement:\n",
    "\n",
    "`for word in ['this', 'is', 'a', 'list']:\n",
    "    print(word)`\n",
    "    \n",
    "Will run the line `print(word)` 4 times, and the variable word will change on each iteration to the next word in the list:"
   ]
  },
  {
   "cell_type": "code",
   "execution_count": null,
   "metadata": {},
   "outputs": [],
   "source": [
    "for word in ['this', 'is', 'a', 'list']:\n",
    "    print(word)"
   ]
  },
  {
   "cell_type": "code",
   "execution_count": null,
   "metadata": {},
   "outputs": [],
   "source": [
    "numbers = [1,2,3,4]\n",
    "total = 0\n",
    "for number in numbers:\n",
    "    total = total + number\n",
    "\n",
    "print(total)"
   ]
  },
  {
   "cell_type": "markdown",
   "metadata": {},
   "source": [
    "### Range\n",
    "\n",
    "Sometimes we want to run some code a fixed number of times instead of running it for each item in a list. We can still use our `for` loop to do this using the `range(...)` function. \n",
    "\n",
    "So instead of `for <variable> in <list>:` we use for `for variable in range(<number>)`"
   ]
  },
  {
   "cell_type": "code",
   "execution_count": null,
   "metadata": {},
   "outputs": [],
   "source": [
    "for x in range(3):\n",
    "    print(x)"
   ]
  },
  {
   "cell_type": "code",
   "execution_count": null,
   "metadata": {},
   "outputs": [],
   "source": [
    "for x in range(5):\n",
    "    print(x)"
   ]
  },
  {
   "cell_type": "markdown",
   "metadata": {},
   "source": [
    "If we pass 1 parameter to range it will start at 0 and go up to (but not including) the parameter you provide. We can also tell what number to start and end at:"
   ]
  },
  {
   "cell_type": "code",
   "execution_count": null,
   "metadata": {},
   "outputs": [],
   "source": [
    "for x in range(305, 309):\n",
    "    print(x)"
   ]
  },
  {
   "cell_type": "markdown",
   "metadata": {},
   "source": [
    "We can also reverse the range using the `reversed(...)` function:"
   ]
  },
  {
   "cell_type": "code",
   "execution_count": null,
   "metadata": {},
   "outputs": [],
   "source": [
    "for x in reversed(range(305, 309)):\n",
    "    print(x)"
   ]
  },
  {
   "cell_type": "markdown",
   "metadata": {},
   "source": [
    "## While\n",
    "\n",
    "A `while` loop is a loop like a `for` loop, and has a condition like an `if` statement. A while loop keeps doing something so long as its condition is `True`. The syntax for a while loop looks like:\n",
    "\n",
    "`while <condition>:\n",
    "    <statements>`\n",
    "    \n",
    "Lets look at an example:"
   ]
  },
  {
   "cell_type": "code",
   "execution_count": null,
   "metadata": {},
   "outputs": [],
   "source": [
    "i = 0\n",
    "while i < 5:\n",
    "    i = i + 1\n",
    "    print(i)"
   ]
  },
  {
   "cell_type": "code",
   "execution_count": null,
   "metadata": {},
   "outputs": [],
   "source": [
    "pi = 3.14\n",
    "radius = 1\n",
    "area = pi * radius * radius\n",
    "\n",
    "while area < 500:\n",
    "    radius = radius + 1\n",
    "    area = pi * radius * radius\n",
    "\n",
    "print(radius)"
   ]
  },
  {
   "cell_type": "markdown",
   "metadata": {},
   "source": [
    "## Control Flow Example\n",
    "\n",
    "Lets look at a real example of using `if` and `for` loops - Bubble Sort.\n",
    "\n",
    "We start with a list that we want sorted:"
   ]
  },
  {
   "cell_type": "code",
   "execution_count": null,
   "metadata": {},
   "outputs": [],
   "source": [
    "my_list = [3, 2, 5, 1, 4]"
   ]
  },
  {
   "cell_type": "markdown",
   "metadata": {},
   "source": [
    "With bubble sort we do the following:\n",
    "1. Start at the first element\n",
    "2. Compare it to the next\n",
    "3. If the first element is bigger than the second swap them\n",
    "4. Repeat steps 1-3 with the next element until you reach the end\n",
    "5. Repeat steps 1-4 until the list is sorted\n",
    "\n",
    "### Swapping\n",
    "\n",
    "We begin by comparing the first and second element:"
   ]
  },
  {
   "cell_type": "code",
   "execution_count": null,
   "metadata": {},
   "outputs": [],
   "source": [
    "first = my_list[0]\n",
    "second = my_list[1]\n",
    "\n",
    "print(first > second)"
   ]
  },
  {
   "cell_type": "markdown",
   "metadata": {},
   "source": [
    "In this case first is greater than second - so we swap them, we put the second value in the first place, and first value in the second pace."
   ]
  },
  {
   "cell_type": "code",
   "execution_count": null,
   "metadata": {},
   "outputs": [],
   "source": [
    "first = my_list[0]\n",
    "second = my_list[1]\n",
    "\n",
    "my_list[0] = second\n",
    "my_list[1] = first\n",
    "print(my_list)"
   ]
  },
  {
   "cell_type": "markdown",
   "metadata": {},
   "source": [
    "Now we have the first two elements in the correct order, we can move on to the next:"
   ]
  },
  {
   "cell_type": "code",
   "execution_count": null,
   "metadata": {},
   "outputs": [],
   "source": [
    "first = my_list[1]\n",
    "second = my_list[2]\n",
    "\n",
    "print(first > second)"
   ]
  },
  {
   "cell_type": "markdown",
   "metadata": {},
   "source": [
    "### Adding An If Statement\n",
    "\n",
    "The first is not greater than the second, so we dont need to swap - lets move to the next - this time we would like to do the check and the step in a single block of code - so we will use an if statement. If the first is greater than the second, we will swap."
   ]
  },
  {
   "cell_type": "code",
   "execution_count": null,
   "metadata": {},
   "outputs": [],
   "source": [
    "print(my_list)\n",
    "\n",
    "first = my_list[2]\n",
    "second = my_list[3]\n",
    "\n",
    "if(first > second):\n",
    "    my_list[2] = second\n",
    "    my_list[3] = first\n",
    "\n",
    "print(my_list)"
   ]
  },
  {
   "cell_type": "markdown",
   "metadata": {},
   "source": [
    "And now we compare the last pair: "
   ]
  },
  {
   "cell_type": "code",
   "execution_count": null,
   "metadata": {},
   "outputs": [],
   "source": [
    "print(my_list)\n",
    "\n",
    "first = my_list[3]\n",
    "second = my_list[4]\n",
    "\n",
    "if(first > second):\n",
    "    my_list[3] = second\n",
    "    my_list[4] = first\n",
    "\n",
    "print(my_list)"
   ]
  },
  {
   "cell_type": "markdown",
   "metadata": {},
   "source": [
    "We have completed one full iteration of bubble sort, we havent finished yet though, the `1` is still in the wrong place. We need to do this several times - until the list is fully sorted.\n",
    "\n",
    "### Adding a For Loop\n",
    "\n",
    "If we look at the code for the last two steps, they are identical except for the numbers we use. In fact we can use this same code for all of our steps, we just need to change the numbers each time. Sounds like a job for a for loop.\n",
    "\n",
    "In our code, we set the variable `first` to the value at the indices `0`, `1`, `2` and then `3`. We can use a for loop with `range(4)` to loop over those numbers. The variable `second` is always the one beside it beside it, i.e. its index was always 1 + the index of the first. So lets write our basic for loop:"
   ]
  },
  {
   "cell_type": "code",
   "execution_count": null,
   "metadata": {},
   "outputs": [],
   "source": [
    "for index in range(4):\n",
    "    first = my_list[index]    \n",
    "    print(first)"
   ]
  },
  {
   "cell_type": "code",
   "execution_count": null,
   "metadata": {},
   "outputs": [],
   "source": [
    "for index in range(4):\n",
    "    first = my_list[index]   \n",
    "    second = my_list[index + 1]    \n",
    "    print(str(first) + \"<->\" + str(second))"
   ]
  },
  {
   "cell_type": "markdown",
   "metadata": {},
   "source": [
    "So we now have a loop that can get all the variables for each step, we just need to add in our code to compare and swap:"
   ]
  },
  {
   "cell_type": "code",
   "execution_count": null,
   "metadata": {},
   "outputs": [],
   "source": [
    "my_list = [2, 3, 1, 4, 5]\n",
    "\n",
    "for index in range(4):\n",
    "    first = my_list[index]   \n",
    "    second = my_list[index + 1]\n",
    "    if(first > second):\n",
    "        my_list[index] = second\n",
    "        my_list[index + 1] = first\n",
    "        \n",
    "print(my_list)"
   ]
  },
  {
   "cell_type": "markdown",
   "metadata": {},
   "source": [
    "If we run this one last time, we end up with a fully sorted list:"
   ]
  },
  {
   "cell_type": "code",
   "execution_count": null,
   "metadata": {},
   "outputs": [],
   "source": [
    "my_list = [2, 1, 3, 4, 5]\n",
    "\n",
    "for index in range(4):\n",
    "    first = my_list[index]   \n",
    "    second = my_list[index + 1]\n",
    "    if(first > second):\n",
    "        my_list[index] = second\n",
    "        my_list[index + 1] = first\n",
    "        \n",
    "print(my_list)"
   ]
  },
  {
   "cell_type": "markdown",
   "metadata": {},
   "source": [
    "### Adding a While Loop\n",
    "\n",
    "If we were to sort the list again, we would have to run bubble sort three times before it is fully sorted - but we dont actually know for any given list how many times to sort. We want to run the steps of bubble sort until it is sorted - so we can use a while loop.\n",
    "\n",
    "Recall that a while loop looks like \n",
    "\n",
    "`while <condition>:\n",
    "    <statements>`\n",
    "    \n",
    "So what is the condition? The condition is  'so long as the list is not sorted'. When we run bubble sort on a list that is already sorted, it doesnt do any swaps - so if we run a single iteration of bubble sort and we do no swaps, then we are done. We can write this as:"
   ]
  },
  {
   "cell_type": "code",
   "execution_count": null,
   "metadata": {},
   "outputs": [],
   "source": [
    "my_list = [3, 2, 5, 1, 4]\n",
    "\n",
    "is_sorted = False\n",
    "\n",
    "# Keep repeating bubble sort so long as the list is not sorted\n",
    "while not is_sorted:\n",
    "    # Assume that the list is sorted\n",
    "    #  if we do any swaps then we will change this to False\n",
    "    is_sorted = True\n",
    "    for index in range(4):        \n",
    "        first = my_list[index]   \n",
    "        second = my_list[index + 1]    \n",
    "        if(first > second):\n",
    "            # We did a swap so the list wasnt sorted\n",
    "            is_sorted = False\n",
    "            my_list[index] = second\n",
    "            my_list[index + 1] = first\n",
    "            \n",
    "print(my_list)"
   ]
  },
  {
   "cell_type": "markdown",
   "metadata": {},
   "source": [
    "In this example whe kept repeating so long as `is_sorted` was not `True` - i.e. keep repeating until the list is sorted. \n",
    "Inside the while loop we set `is_sorted` to `True` - we assumed that the list was sorted first, and then, if we did any swaps, we know that the list wasnt sorted, so we set `is_sorted` to `False`."
   ]
  },
  {
   "cell_type": "markdown",
   "metadata": {},
   "source": [
    "### Supporting different list sizes\n",
    "\n",
    "Our code will only work with a list of 5 elements, if we try running it with 6 elements, this is the result:"
   ]
  },
  {
   "cell_type": "code",
   "execution_count": null,
   "metadata": {},
   "outputs": [],
   "source": [
    "my_list = [3, 6, 5, 1, 4, 2]\n",
    "\n",
    "is_sorted = False\n",
    "\n",
    "# Keep repeating bubble sort so long as the list is not sorted\n",
    "while not is_sorted:\n",
    "    # Assume that the list is sorted\n",
    "    #  if we do any swaps then we will change this to False\n",
    "    is_sorted = True\n",
    "    for index in range(4):        \n",
    "        first = my_list[index]   \n",
    "        second = my_list[index + 1]    \n",
    "        if(first > second):\n",
    "            # We did a swap so the list wasnt sorted\n",
    "            is_sorted = False\n",
    "            my_list[index] = second\n",
    "            my_list[index + 1] = first\n",
    "            \n",
    "print(my_list)"
   ]
  },
  {
   "cell_type": "markdown",
   "metadata": {},
   "source": [
    "We see that it has sorted only the first 5 elements. To fix this we need to fix the the for loop. Right now we use range(4) - we need to change the 4 to the number of items in the list - 1. We can use the `len(..)` function to do this:"
   ]
  },
  {
   "cell_type": "code",
   "execution_count": null,
   "metadata": {},
   "outputs": [],
   "source": [
    "my_list = [3, 6, 5, 1, 4, 2]\n",
    "\n",
    "is_sorted = False\n",
    "\n",
    "# Keep repeating bubble sort so long as the list is not sorted\n",
    "while not is_sorted:\n",
    "    # Assume that the list is sorted\n",
    "    #  if we do any swaps then we will change this to False\n",
    "    is_sorted = True\n",
    "    for index in range(len(my_list) - 1):        \n",
    "        first = my_list[index]   \n",
    "        second = my_list[index + 1]    \n",
    "        if(first > second):\n",
    "            # We did a swap so the list wasnt sorted\n",
    "            is_sorted = False\n",
    "            my_list[index] = second\n",
    "            my_list[index + 1] = first\n",
    "            \n",
    "print(my_list)"
   ]
  },
  {
   "cell_type": "code",
   "execution_count": null,
   "metadata": {},
   "outputs": [],
   "source": [
    "my_list = [3, 6, 5, 1, 4, 2, 8, 9, 3, 7, 4, 2, 0, 9, 1]\n",
    "\n",
    "is_sorted = False\n",
    "\n",
    "# Keep repeating bubble sort so long as the list is not sorted\n",
    "while not is_sorted:\n",
    "    # Assume that the list is sorted\n",
    "    #  if we do any swaps then we will change this to False\n",
    "    is_sorted = True\n",
    "    for index in range(len(my_list) - 1):        \n",
    "        first = my_list[index]   \n",
    "        second = my_list[index + 1]    \n",
    "        if(first > second):\n",
    "            # We did a swap so the list wasnt sorted\n",
    "            is_sorted = False\n",
    "            my_list[index] = second\n",
    "            my_list[index + 1] = first\n",
    "            \n",
    "print(my_list)"
   ]
  },
  {
   "cell_type": "markdown",
   "metadata": {},
   "source": [
    "### Summary\n",
    "\n",
    "In this lesson we covered control flow in python. We looked at if statements, for loops and while loops, we then looked at how to write the code to sort a list that uses all three.\n",
    "\n",
    "In the next lesson we will learn about creating [Functions](Functions.ipynb)."
   ]
  },
  {
   "cell_type": "code",
   "execution_count": null,
   "metadata": {},
   "outputs": [],
   "source": []
  }
 ],
 "metadata": {
  "kernelspec": {
   "display_name": "Python 3",
   "language": "python",
   "name": "python3"
  },
  "language_info": {
   "codemirror_mode": {
    "name": "ipython",
    "version": 3
   },
   "file_extension": ".py",
   "mimetype": "text/x-python",
   "name": "python",
   "nbconvert_exporter": "python",
   "pygments_lexer": "ipython3",
   "version": "3.6.3"
  }
 },
 "nbformat": 4,
 "nbformat_minor": 2
}

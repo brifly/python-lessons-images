{
 "cells": [
  {
   "cell_type": "markdown",
   "metadata": {},
   "source": [
    "# Introduction to Python\n",
    "\n",
    "This is a tutorial series designed to give an introduction to programming using the python language. It starts with lessons on the basic concepts of python programming and then works through building a simple game using python. At the end of this you should be comfortable with writing basic programs using python. \n",
    "\n",
    "## Lessons\n",
    "\n",
    "There are three more lessons that cover some of the basics:\n",
    "\n",
    "* [Types, Expressions and Variables](TypesExpressionsAndVars.ipynb)\n",
    "* [Control Flow](ControlFlow.ipynb)\n",
    "* [Functions](Functions.ipynb)\n",
    "\n",
    "Most of the material for this tutorial is in the project lessons. The lessons above cover all the basics needed to start the project - the project uses all of the material covered in these and you should have a good understanding before proceeding. When you have completed you can continue on to:\n",
    "\n",
    "* [Candy Crush in Python](CandyCrush/Introduction.ipynb)\n",
    "\n",
    "## Hello World\n",
    "\n",
    "Lets begin by looking at a Hello World program in python. Hello World programs are programs that simply print out the text 'Hello, World'. When learning a new language we usually start by looking at a Hello World program, because it is one of the simplest things we can do with a language.\n",
    "\n",
    "In python the Hello World program looks like this:"
   ]
  },
  {
   "cell_type": "code",
   "execution_count": null,
   "metadata": {},
   "outputs": [],
   "source": [
    "print(\"Hello, World\")"
   ]
  },
  {
   "cell_type": "markdown",
   "metadata": {},
   "source": [
    "There are a few elements to pick out the first is the word `print`, which is the name of the print function. The `print` function prints out whatever we ask it to. To use or 'call' the `print` function we need to put some round brackets after it `(` and `)`. We put whatever we want to print out in between those brackets `print(...)` - whatever we put in place of the `...` is what we want to print out.\n",
    "\n",
    "The second thing in this line is the `\"Hello, World\"`, which is called a string. A string is just a piece of text, we tell python that something is a string by surrounding it with either single ' or double \" quotes.\n",
    "\n",
    "We didnt have to print out a string, we could have also printed out a number e.g.:"
   ]
  },
  {
   "cell_type": "code",
   "execution_count": null,
   "metadata": {},
   "outputs": [],
   "source": [
    "print(3)"
   ]
  },
  {
   "cell_type": "markdown",
   "metadata": {},
   "source": [
    "We can print out any text or number we like\""
   ]
  },
  {
   "cell_type": "code",
   "execution_count": null,
   "metadata": {},
   "outputs": [],
   "source": [
    "print(\"Hello, Mary\")\n",
    "print(\"Hello, Bob\")"
   ]
  },
  {
   "cell_type": "markdown",
   "metadata": {},
   "source": [
    "## Summary\n",
    "\n",
    "We looked at a simple Hello World program in this lesson, in the next lesson we will look at [Types, Expressions and Variables](../TypesExpressionsAndVars.ipynb)"
   ]
  },
  {
   "cell_type": "code",
   "execution_count": null,
   "metadata": {},
   "outputs": [],
   "source": []
  }
 ],
 "metadata": {
  "kernelspec": {
   "display_name": "Python 3",
   "language": "python",
   "name": "python3"
  },
  "language_info": {
   "codemirror_mode": {
    "name": "ipython",
    "version": 3
   },
   "file_extension": ".py",
   "mimetype": "text/x-python",
   "name": "python",
   "nbconvert_exporter": "python",
   "pygments_lexer": "ipython3",
   "version": "3.6.3"
  }
 },
 "nbformat": 4,
 "nbformat_minor": 2
}

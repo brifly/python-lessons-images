{
 "cells": [
  {
   "cell_type": "markdown",
   "metadata": {},
   "source": [
    "# Python Basics - Functions\n",
    "\n",
    "In this lesson we will learn about functions. Functions allow us to reuse code, we can take a piece of code, give it a name and reuse it in lots of places. \n",
    "\n",
    "## What are Functions\n",
    "\n",
    "In the last lesson we looked at bubble sort a simple way to sort a list - we could put that code into a function and then be able to sort any list that we want by 'calling' that function. \n",
    "\n",
    "We have already used some python functions, `print(...)` for example is a function that prints whatever we give it out, and so is `len(...)`. If we give the `len(...)` function a string, it would tell us how many characters are in the string. If we give `len(...)` a list it will tell us how many elements. \n",
    "\n",
    "If we wanted to find out how many elements in a list we could also use a loop:"
   ]
  },
  {
   "cell_type": "code",
   "execution_count": null,
   "metadata": {},
   "outputs": [],
   "source": [
    "animals = ['Cat', 'Dog', 'Elephant', 'Mouse']\n",
    "\n",
    "count = 0\n",
    "for element in animals:\n",
    "    count = count + 1\n",
    "\n",
    "print(\"There are \" + str(count) + \" animals\")"
   ]
  },
  {
   "cell_type": "markdown",
   "metadata": {},
   "source": [
    "Its far easier to just write `len(animals)`:"
   ]
  },
  {
   "cell_type": "code",
   "execution_count": null,
   "metadata": {},
   "outputs": [],
   "source": [
    "count = len(animals)\n",
    "\n",
    "print(\"There are \" + str(count) + \" animals\")"
   ]
  },
  {
   "cell_type": "markdown",
   "metadata": {},
   "source": [
    "Functions allow us to package code in a way that we can re-use it over and over without having to rewrite that code."
   ]
  },
  {
   "cell_type": "markdown",
   "metadata": {},
   "source": [
    "## Creating a Basic Function\n",
    "\n",
    "Lets start by creating a very simple function, we will call it `say_hello`. When we call `say_hello()` it will print out 'Hello, World'. "
   ]
  },
  {
   "cell_type": "code",
   "execution_count": null,
   "metadata": {},
   "outputs": [],
   "source": [
    "def say_hello():\n",
    "    print('Hello, World')\n",
    "    \n",
    "say_hello()"
   ]
  },
  {
   "cell_type": "markdown",
   "metadata": {},
   "source": [
    "We start the function with the keyword `def` then the name of the function, followed by an open round bracket `(` and a close round bracket `)`. \n",
    "\n",
    "Whenever we want to write the message 'Hello, World' we can type `say_hello()` instead.\n",
    "\n",
    "## Parameters\n",
    "\n",
    "Our function is not very useful, so lets add a parameter. Parameters allow us to give data to the function to use. For our `say_hello()` lets add a parameter called name:"
   ]
  },
  {
   "cell_type": "code",
   "execution_count": null,
   "metadata": {},
   "outputs": [],
   "source": [
    "def say_hello(name):\n",
    "    print('Hello, World')\n",
    "    \n",
    "say_hello('Joe')"
   ]
  },
  {
   "cell_type": "markdown",
   "metadata": {},
   "source": [
    "Our function is still not very useful, because it doesnt do anything with the name we give it. So lets print out 'Hello, ' followed by the name of the person we passed in:"
   ]
  },
  {
   "cell_type": "code",
   "execution_count": null,
   "metadata": {},
   "outputs": [],
   "source": [
    "def say_hello(name):\n",
    "    print('Hello, ' + name)\n",
    "    \n",
    "say_hello('Joe')"
   ]
  },
  {
   "cell_type": "markdown",
   "metadata": {},
   "source": [
    "### Multiple Parameters\n",
    "\n",
    "We can have more than one parameter, so lets try change our function to say hello to two people:"
   ]
  },
  {
   "cell_type": "code",
   "execution_count": null,
   "metadata": {},
   "outputs": [],
   "source": [
    "def say_hello(name1, name2):\n",
    "    print('Hello, ' + name1 + ' and ' + name2)\n",
    "    \n",
    "say_hello('Joe', 'Karen')"
   ]
  },
  {
   "cell_type": "markdown",
   "metadata": {},
   "source": [
    "## Return\n",
    "\n",
    "So far we have looked at functions that take data in, but we can return data, like the `len(...)` function, which takes in a `string` or a `list` and returns an `integer`.\n",
    "\n",
    "Lets create our own version of `len(...)` we can call it `number_of_items(...)`:"
   ]
  },
  {
   "cell_type": "code",
   "execution_count": null,
   "metadata": {},
   "outputs": [],
   "source": [
    "def number_of_items(item_list):\n",
    "    count = 0\n",
    "    for element in item_list:\n",
    "        count = count + 1\n",
    "    return count\n",
    "\n",
    "animals = ['Cat', 'Dog', 'Elephant', 'Mouse']\n",
    "\n",
    "count = number_of_items(animals)\n",
    "\n",
    "print(\"There are \" + str(count) + \" animals\")"
   ]
  },
  {
   "cell_type": "raw",
   "metadata": {},
   "source": [
    "To return something from the function we just used the keyword `return` followed by the thing we wanted to send back."
   ]
  },
  {
   "cell_type": "markdown",
   "metadata": {},
   "source": [
    "## Bubble Sort Function\n",
    "\n",
    "In the last lesson we wrote the code to sort a list using bubble sort, so lets put that in a function. Our code was:"
   ]
  },
  {
   "cell_type": "code",
   "execution_count": null,
   "metadata": {},
   "outputs": [],
   "source": [
    "my_list = [3, 6, 5, 1, 4, 2, 8, 9, 3, 7, 4, 2, 0, 9, 1]\n",
    "\n",
    "is_sorted = False\n",
    "\n",
    "# Keep repeating bubble sort so long as the list is not sorted\n",
    "while not is_sorted:\n",
    "    # Assume that the list is sorted\n",
    "    #  if we do any swaps then we will change this to False\n",
    "    is_sorted = True\n",
    "    for index in range(len(my_list) - 1):        \n",
    "        first = my_list[index]   \n",
    "        second = my_list[index + 1]    \n",
    "        if(first > second):\n",
    "            # We did a swap so the list wasnt sorted\n",
    "            is_sorted = False\n",
    "            my_list[index] = second\n",
    "            my_list[index + 1] = first\n",
    "            \n",
    "print(my_list)"
   ]
  },
  {
   "cell_type": "markdown",
   "metadata": {},
   "source": [
    "We want to write a function that takes any list of numbers and sorts it using bubble sort. So in this case we have one parameter (the list we want to sort) and no return value.\n",
    "\n",
    "Turning this into a function is quite simple:"
   ]
  },
  {
   "cell_type": "code",
   "execution_count": null,
   "metadata": {},
   "outputs": [],
   "source": [
    "def bubble_sort(my_list):\n",
    "\n",
    "    is_sorted = False\n",
    "\n",
    "    while not is_sorted:\n",
    "        is_sorted = True\n",
    "        for index in range(len(my_list) - 1):        \n",
    "            first = my_list[index]   \n",
    "            second = my_list[index + 1]    \n",
    "            if(first > second):\n",
    "                is_sorted = False\n",
    "                my_list[index] = second\n",
    "                my_list[index + 1] = first            "
   ]
  },
  {
   "cell_type": "markdown",
   "metadata": {},
   "source": [
    "We now have a function `bubble_sort(...)` that will sort any list we give it:"
   ]
  },
  {
   "cell_type": "code",
   "execution_count": null,
   "metadata": {},
   "outputs": [],
   "source": [
    "list1 = [9, 8, 7, 6, 5]\n",
    "\n",
    "bubble_sort(list1)\n",
    "\n",
    "list2 = [4, 4, 2, 1, 9, 0, 1]\n",
    "bubble_sort(list2)\n",
    "\n",
    "print(list1)\n",
    "print(list2)"
   ]
  }
 ],
 "metadata": {
  "kernelspec": {
   "display_name": "Python 3",
   "language": "python",
   "name": "python3"
  },
  "language_info": {
   "codemirror_mode": {
    "name": "ipython",
    "version": 3
   },
   "file_extension": ".py",
   "mimetype": "text/x-python",
   "name": "python",
   "nbconvert_exporter": "python",
   "pygments_lexer": "ipython3",
   "version": "3.6.3"
  }
 },
 "nbformat": 4,
 "nbformat_minor": 2
}

{
 "cells": [
  {
   "cell_type": "markdown",
   "metadata": {},
   "source": [
    "# Candy Crush in Python - Part 3 - Matching\n",
    "\n",
    "In this part of the tutorial we will write the code to search for matches of 3 or more tiles in a row or column of our grid.\n",
    "\n",
    "## Code Recap\n",
    "\n",
    "So far we have our game board, a way of displaying the grid, and a function to swap two cells beside eachother:"
   ]
  },
  {
   "cell_type": "code",
   "execution_count": null,
   "metadata": {},
   "outputs": [],
   "source": [
    "import numpy as np\n",
    "from gamegrid import GameGrid\n",
    "from IPython.display import display\n",
    "\n",
    "def show_board(board_array):\n",
    "    grid = GameGrid()\n",
    "    grid.data = board_array\n",
    "    display(grid)\n",
    "    \n",
    "def swap_items(board, first, second):    \n",
    "    # Calculate the 'distance'\n",
    "    dist = np.sum(np.abs(np.subtract(second, first)))\n",
    "    # Two cells are beside eachother if the distance is 1 or 0\n",
    "    is_beside = dist <= 1\n",
    "    # Only swap if they are beside\n",
    "    if(is_beside):\n",
    "        tmp = board[first]\n",
    "        board[first] = board[second]        \n",
    "        board[second] = tmp "
   ]
  },
  {
   "cell_type": "markdown",
   "metadata": {},
   "source": [
    "And we can use our code as follows:"
   ]
  },
  {
   "cell_type": "code",
   "execution_count": null,
   "metadata": {},
   "outputs": [],
   "source": [
    "swap_board = np.array([\n",
    "    [0, 1, 2],\n",
    "    [3, 4, 0],\n",
    "    [1, 2, 3]    \n",
    "])\n",
    "\n",
    "print(\"Before Swap:\")\n",
    "show_board(swap_board)\n",
    "\n",
    "# Swap (0,0) with (0, 1)\n",
    "swap_items(swap_board, (0,0), (0,1))\n",
    "\n",
    "# Display the game board\n",
    "print(\"After Swap:\")\n",
    "show_board(swap_board)"
   ]
  },
  {
   "cell_type": "markdown",
   "metadata": {},
   "source": [
    "## Finding Matches in a Row\n",
    "\n",
    "The object of the game is to get three or more gems in a row or a column, so we need some code that is able to find these matches on our game board. \n",
    "\n",
    "We will break this down into a few parts:\n",
    "* For a given tile, count the number of tiles beside (to the right of) that have the same value\n",
    "* For a given tile, count the number of tiles below it of the same value\n",
    "* Go through every tile and use the above two functions to find all groups of 3 or longer\n",
    "\n",
    "### Counting Matching Tiles to the Right\n",
    "\n",
    "To count the number of cells to the right of a cell, we will write a function called horiz_match_length.\n",
    "\n",
    "The function will take our board and a point (i.e. the row and column index) of the tile we want to check. It will return the number of tiles to the right that match (including the current tile - i.e. the number of tiles that are the same to the right plus 1).\n",
    "\n",
    "#### Getting the row and column from our tuple\n",
    "\n",
    "We need to know the row and column of our point, to do this we use `(r, c) = point`:"
   ]
  },
  {
   "cell_type": "code",
   "execution_count": null,
   "metadata": {},
   "outputs": [],
   "source": [
    "point = (0, 1)\n",
    "(r, c) = point\n",
    "print(\"Row: \" + str(r) + \", Column: \" + str(c))"
   ]
  },
  {
   "cell_type": "markdown",
   "metadata": {},
   "source": [
    "#### Looping through the cells in the row\n",
    "\n",
    "We want to check each cell in the row of the point we are checking, to do this we use a for loop, starting at the next column `c+1`, until we reach the end of the row. \n",
    "\n",
    "To get the end of the row we can use the shape property of the board. The shape tells us how many rows and columns are on the board e.g.:"
   ]
  },
  {
   "cell_type": "code",
   "execution_count": null,
   "metadata": {},
   "outputs": [],
   "source": [
    "board = np.array([\n",
    "    [0,1,2,3],\n",
    "    [4,0,1,2],\n",
    "    [3,4,0,1]\n",
    "])\n",
    "print(board.shape)"
   ]
  },
  {
   "cell_type": "markdown",
   "metadata": {},
   "source": [
    "This returns a tuple, so we can get the number of rows and columns using `(row_count, col_count) = board.shape`"
   ]
  },
  {
   "cell_type": "code",
   "execution_count": null,
   "metadata": {},
   "outputs": [],
   "source": [
    "(row_count, col_count) = board.shape\n",
    "print(\"Board Dimensions: \" + str(row_count) + \"x\" + str(col_count))"
   ]
  },
  {
   "cell_type": "markdown",
   "metadata": {},
   "source": [
    "So now we can loop over every cell starting at our column `c+1`:"
   ]
  },
  {
   "cell_type": "code",
   "execution_count": null,
   "metadata": {},
   "outputs": [],
   "source": [
    "for i in range(c+1, col_count):\n",
    "    print(\"Row: \" + str(r) + \", Column: \" + str(i) + \" = \" + str(board[r, i]))"
   ]
  },
  {
   "cell_type": "markdown",
   "metadata": {},
   "source": [
    "#### Creating the Function\n",
    "\n",
    "So now we can create our function, we start by setting some variables:\n",
    "* Get the value of the point we are checking, put it in a variable called `first`\n",
    "* Put the row and column of the point into `r` and `c`\n",
    "* Put the number of rows and columns of the board into `row_count` and `col_count` (Though we only actually need col_count for this function)\n",
    "* Create a variable `same_tile_count` and set it to 1 (we always have a match of length 1)\n",
    "\n",
    "Our function then does the following:\n",
    "* Loop over every cell starting at the one to the right of our point (`r`, `c+1`)\n",
    "* Check if the tile has the same value as our `first` cell\n",
    "* If it does have the same value, add 1 to `same_tile_count`\n",
    "* If it does not have the same value, we have reached the end of the match return the current `same_tile_count`"
   ]
  },
  {
   "cell_type": "code",
   "execution_count": null,
   "metadata": {},
   "outputs": [],
   "source": [
    "def horiz_match_length(board, point):\n",
    "    \n",
    "    # The value of the point we are checking\n",
    "    first = board[point]\n",
    "    \n",
    "    # Get the row and column of the point we are checking\n",
    "    (r, c) = point\n",
    "    \n",
    "    # Get the number of rows and columns\n",
    "    (row_count, col_count) = board.shape\n",
    "    \n",
    "    # The count of how many of the same tile we have found in a row (we always have at least 1)\n",
    "    same_tile_count = 1\n",
    "    \n",
    "    # We check each tile from the tile immediately to the right (c+1) to the end of the row \n",
    "    for i in range(c+1, col_count):\n",
    "        # Check if the tile we are looking at is the same as the first\n",
    "        if(board[r, i] != first):\n",
    "            # Its not so just return the count we hae so far\n",
    "            return same_tile_count\n",
    "        else:\n",
    "            # Add one to the count\n",
    "            same_tile_count = same_tile_count + 1\n",
    "            \n",
    "    return same_tile_count"
   ]
  },
  {
   "cell_type": "markdown",
   "metadata": {},
   "source": [
    "#### Using the Function\n",
    "\n",
    "Lets test our function with some values, first lets create a board:"
   ]
  },
  {
   "cell_type": "code",
   "execution_count": null,
   "metadata": {},
   "outputs": [],
   "source": [
    "count_horiz_board = np.array([\n",
    "    [0, 1, 2, 3],\n",
    "    [3, 4, 4, 4],\n",
    "    [1, 1, 0, 3],\n",
    "    [1, 2, 0, 2]    \n",
    "])\n",
    "\n",
    "show_board(count_horiz_board)"
   ]
  },
  {
   "cell_type": "markdown",
   "metadata": {},
   "source": [
    "We can see from this that we have 3 ruby's in a row starting at row 1 column 1 or (1, 1) (Remember the first row and column is 0, not 1). We also have a row of two white diamonds starting at (2, 0). If we checked every tile in the grid, we would expect it to look like the following:\n",
    "\n",
    "| | C0 | C1 | C2 | C3 |\n",
    "|-|\n",
    "| R0 | 1 | 1 | 1 | 1 |\n",
    "| R1 | 1 | 3 | 2 | 1 |\n",
    "| R2 | 2 | 1 | 1 | 1 |\n",
    "| R3 | 1 | 1 | 1 | 1 |\n",
    "\n",
    "So lets check a couple of these with our function:"
   ]
  },
  {
   "cell_type": "code",
   "execution_count": null,
   "metadata": {},
   "outputs": [],
   "source": [
    "horiz_match_length(count_horiz_board, (0, 0))"
   ]
  },
  {
   "cell_type": "code",
   "execution_count": null,
   "metadata": {},
   "outputs": [],
   "source": [
    "horiz_match_length(count_horiz_board, (1, 1))"
   ]
  },
  {
   "cell_type": "markdown",
   "metadata": {},
   "source": [
    "We can use a loop and another array to check all positions and return an array with the count for each point on our board. We can create an empty array with the same shape as our board to store the counts using np.zeros:"
   ]
  },
  {
   "cell_type": "code",
   "execution_count": null,
   "metadata": {},
   "outputs": [],
   "source": [
    "counts = np.zeros(count_horiz_board.shape, dtype=int)\n",
    "print(counts)"
   ]
  },
  {
   "cell_type": "markdown",
   "metadata": {},
   "source": [
    "And we can use a loop to check every cell in our grid:"
   ]
  },
  {
   "cell_type": "code",
   "execution_count": null,
   "metadata": {},
   "outputs": [],
   "source": [
    "(row_count, col_count) = count_horiz_board.shape\n",
    "\n",
    "for r in range(0, row_count):\n",
    "    for c in range(0, col_count):\n",
    "        counts[r,c] = horiz_match_length(count_horiz_board, (r, c))\n",
    "        \n",
    "print(counts)"
   ]
  },
  {
   "cell_type": "markdown",
   "metadata": {},
   "source": [
    "## Finding Matches in a Column\n",
    "\n",
    "Counting the number of tiles below is very much like counting the number of tiles to the left. We create a function that takes our game board, the row and column of the tile we want to check, and we loop through all the cells below in the same column until we find a different one. We then return the number of matching tiles we found:"
   ]
  },
  {
   "cell_type": "code",
   "execution_count": null,
   "metadata": {},
   "outputs": [],
   "source": [
    "def vert_match_length(board, point):\n",
    "    # Create our variables\n",
    "    first = board[point]\n",
    "    (r,c) = point\n",
    "    (row_count, col_count) = board.shape\n",
    "    same_tile_count = 1    \n",
    "    \n",
    "    # This time we check from the row immediately below to the last row\n",
    "    # game_grid.shape[0] gives us the number of rows\n",
    "    for i in range(r+1, row_count):\n",
    "        if(board[i,c] != first):\n",
    "            return same_tile_count\n",
    "        else:\n",
    "            same_tile_count = same_tile_count + 1\n",
    "            \n",
    "    return same_tile_count   "
   ]
  },
  {
   "cell_type": "markdown",
   "metadata": {},
   "source": [
    "Lets now test it with a game grid, and verify we get the results we expect."
   ]
  },
  {
   "cell_type": "code",
   "execution_count": null,
   "metadata": {},
   "outputs": [],
   "source": [
    "count_vert_board = np.array([\n",
    "    [0, 1, 2, 3],\n",
    "    [2, 4, 0, 4],\n",
    "    [1, 3, 0, 3],\n",
    "    [0, 2, 0, 3]    \n",
    "])\n",
    "\n",
    "show_board(count_vert_board)"
   ]
  },
  {
   "cell_type": "markdown",
   "metadata": {},
   "source": [
    "We expect the following results:\n",
    "\n",
    "| | C0 | C1 | C2 | C3 |\n",
    "|-|\n",
    "| R0 | 1 | 1 | 1 | 1 |\n",
    "| R1 | 1 | 1 | 3 | 1 |\n",
    "| R2 | 1 | 1 | 2 | 2 |\n",
    "| R3 | 1 | 1 | 1 | 1 |"
   ]
  },
  {
   "cell_type": "code",
   "execution_count": null,
   "metadata": {},
   "outputs": [],
   "source": [
    "(row_count, col_count) = count_vert_board.shape\n",
    "vert_counts = np.zeros((row_count, col_count), dtype=int)\n",
    "\n",
    "for r in range(0, row_count):\n",
    "    for c in range(0, col_count):\n",
    "        vert_counts[r,c] = vert_match_length(count_vert_board, (r, c))\n",
    "        \n",
    "print(vert_counts)"
   ]
  },
  {
   "cell_type": "markdown",
   "metadata": {},
   "source": [
    "## Finding all Row and Column Matches\n",
    "\n",
    "We are now ready to create a function that finds all matches on the board. This function will take a board, and a `required_matches`, which is the minimum number of the same type in a row we are looking for.\n",
    "\n",
    "The function goes through each cell, and checks both the horizontal and vertical matches at that point. If it finds one that is long enough, it adds it to a list of matches.\n",
    "\n",
    "At the end it returns a tuple with two lists, one for the horizontal matches and one for the vertical matches.\n",
    "\n",
    "### Adding items to a list\n",
    "\n",
    "For this function, since we will return two lists with the horizontal and vertical matches, we need to be able to add items to our list. We can use the `list.append(...)` function for this:"
   ]
  },
  {
   "cell_type": "code",
   "execution_count": null,
   "metadata": {},
   "outputs": [],
   "source": [
    "l = [] # An empty list\n",
    "print(l)\n",
    "\n",
    "l.append(1)\n",
    "l.append(2)\n",
    "\n",
    "print(l)"
   ]
  },
  {
   "cell_type": "markdown",
   "metadata": {},
   "source": [
    "Each 'match' we add to the list will be a tuple, with the row, column and the length of the match, e.g. the tuple `(2,1,3)` represents a match at point `(2,1)` (the 3rd row, 2nd column) of length `3`.\n",
    "\n",
    "### Creating the function\n",
    "\n",
    "Our function will take the following parameters:\n",
    "* `board` - the board we want to find matches on\n",
    "* `required_matches` - the minimum number of matched tiles to search for\n",
    "\n",
    "We will first create the following variables:\n",
    "* `horiz_matches` - a list to store the matches in the horizontal direction\n",
    "* `vert_matches` - a list to store the matches in the vertical direction\n",
    "* `row_count` and `col_count` to store the number of rows and columns in the board\n",
    "\n",
    "And we will loop through each cell on the board and do the following:\n",
    "* Create a point for the row and column called `point`\n",
    "* Check the length of the match in the horizontal direction at that point, using our `horiz_match_length` function\n",
    "* If the lenth of the match is greater or equal to our `required_matches` we add a match to our `horiz_matches` list\n",
    "* Check the length of the match in the vertical direction at that point, using our `vert_match_length` function\n",
    "* If the length of the match is greater or equal to our `required_matches` we add a match to our `vert_matches` list\n",
    "\n",
    "After we have looped over every cell, we return a tuple with our horizontal and vertical matches:"
   ]
  },
  {
   "cell_type": "code",
   "execution_count": null,
   "metadata": {},
   "outputs": [],
   "source": [
    "def find_matches(board, required_matches):\n",
    "    # Create a list of horizontal matches\n",
    "    horiz_matches = []\n",
    "    # Create a list of vertical matches\n",
    "    vert_matches = []\n",
    "    \n",
    "    (row_count, col_count) = board.shape\n",
    "    \n",
    "    # Loop through every row\n",
    "    for r in range(row_count):\n",
    "        # Loop through every column\n",
    "        for c in range(col_count):\n",
    "            point = (r,c)\n",
    "            # Find the number of matched cells at this point\n",
    "            horiz_len = horiz_match_length(board, point)\n",
    "            \n",
    "            # If the number of matched cells is greater than what we require, \n",
    "            #  then add to the list of horizontal matches\n",
    "            if horiz_len >= required_matches:\n",
    "                horiz_matches.append((r, c, horiz_len))  \n",
    "            \n",
    "            # Find the number of matching tiles below at this point\n",
    "            vert_len = vert_match_length(board, point)\n",
    "            \n",
    "            # If the number of matched cells is greater than our required_count\n",
    "            #  the add to the list of vertical matches\n",
    "            if vert_len >= required_matches:\n",
    "                vert_matches.append((r, c, vert_len))\n",
    "                \n",
    "    return (horiz_matches, vert_matches)"
   ]
  },
  {
   "cell_type": "markdown",
   "metadata": {},
   "source": [
    "### Testing the Function\n",
    "\n",
    "We can now test our function with a board that contains both a horizontal and vertical match:"
   ]
  },
  {
   "cell_type": "code",
   "execution_count": null,
   "metadata": {},
   "outputs": [],
   "source": [
    "find_all_board = np.array([\n",
    "    [2, 1, 2, 3],\n",
    "    [2, 0, 0, 0],\n",
    "    [2, 3, 0, 3],\n",
    "    [4, 2, 0, 3]    \n",
    "])\n",
    "\n",
    "show_board(find_all_board)"
   ]
  },
  {
   "cell_type": "code",
   "execution_count": null,
   "metadata": {},
   "outputs": [],
   "source": [
    "(h_matches, v_matches) = find_matches(find_all_board, 3)\n",
    "print(\"Horizontal: \"+ str(h_matches))\n",
    "print(\"Vertical: \" + str(v_matches))"
   ]
  },
  {
   "cell_type": "markdown",
   "metadata": {},
   "source": [
    "This is telling us we have one horizontal match starting at (1,1), and two vertical matches, one starting at (0,0) and the other at (1,2). All three matches are of length 3.\n",
    "We can also check for matches of 2 or more:"
   ]
  },
  {
   "cell_type": "code",
   "execution_count": null,
   "metadata": {},
   "outputs": [],
   "source": [
    "(h_matches, v_matches) = find_matches(find_all_board, 2)\n",
    "print(\"Horizontal: \"+ str(h_matches))\n",
    "print(\"Vertical: \" + str(v_matches))"
   ]
  },
  {
   "cell_type": "markdown",
   "metadata": {},
   "source": [
    "or for matches of 4 or more:"
   ]
  },
  {
   "cell_type": "code",
   "execution_count": null,
   "metadata": {},
   "outputs": [],
   "source": [
    "(h_matches, v_matches) = find_matches(find_all_board, 4)\n",
    "print(\"Horizontal: \"+ str(h_matches))\n",
    "print(\"Vertical: \" + str(v_matches))"
   ]
  },
  {
   "cell_type": "markdown",
   "metadata": {},
   "source": [
    "## Summary\n",
    "\n",
    "In this lesson we learned how to find all matches of a particular length on our board. We created a function `find_matches` that takes a board and the number of matches we want and returns a tuple with a list of all the horizontal matches and a list of all the vertical matches. \n",
    "\n",
    "In the next section we will look at: [Removing Matches and Filling in Blank Spaces](Part4-RemoveAndReplace.ipynb)"
   ]
  },
  {
   "cell_type": "code",
   "execution_count": null,
   "metadata": {},
   "outputs": [],
   "source": []
  }
 ],
 "metadata": {
  "kernelspec": {
   "display_name": "Python 3",
   "language": "python",
   "name": "python3"
  },
  "language_info": {
   "codemirror_mode": {
    "name": "ipython",
    "version": 3
   },
   "file_extension": ".py",
   "mimetype": "text/x-python",
   "name": "python",
   "nbconvert_exporter": "python",
   "pygments_lexer": "ipython3",
   "version": "3.6.3"
  }
 },
 "nbformat": 4,
 "nbformat_minor": 2
}

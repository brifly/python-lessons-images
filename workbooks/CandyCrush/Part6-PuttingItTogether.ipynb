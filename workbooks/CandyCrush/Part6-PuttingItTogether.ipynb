{
 "cells": [
  {
   "cell_type": "markdown",
   "metadata": {},
   "source": [
    "# Candy Crush in Python - Part 6 - Putting Everything Together\n",
    "\n",
    "In this lesson we will take all of the functions we have written so far and create our game.\n",
    "\n",
    "# Code Recap\n",
    "\n",
    "So far we have:\n",
    "* Our game board and function to display the grid\n",
    "* A function to swap two cells beside eachother\n",
    "* A function to find all matches of a particular length on the board\n",
    "* A function to remove matches\n",
    "* A function to refill the empty spaces either with the cells from above, or random cells\n",
    "* A function to handle user clicks and perform swapping, matching and refill recursively"
   ]
  },
  {
   "cell_type": "code",
   "execution_count": 1,
   "metadata": {},
   "outputs": [],
   "source": [
    "import numpy as np\n",
    "from gamegrid import GameGrid\n",
    "from IPython.display import display\n",
    "import time\n",
    "\n",
    "\n",
    "def show_board(board_array):\n",
    "    grid = GameGrid()\n",
    "    grid.data = board_array\n",
    "    display(grid)\n",
    "    \n",
    "\n",
    "def swap_items(board, first, second):    \n",
    "    dist = np.sum(np.abs(np.subtract(second, first)))\n",
    "    \n",
    "    is_beside = dist <= 1\n",
    "    \n",
    "    if(is_beside):\n",
    "        tmp = board[first]\n",
    "        board[first] = board[second]        \n",
    "        board[second] = tmp \n",
    "\n",
    "\n",
    "def horiz_match_length(board, point):\n",
    "    first = board[point]\n",
    "    (r, c) = point\n",
    "    (row_count, col_count) = board.shape\n",
    "    same_tile_count = 1\n",
    "    \n",
    "    for i in range(c+1, col_count):\n",
    "        if(board[r, i] != first):\n",
    "            return same_tile_count\n",
    "        else:\n",
    "            same_tile_count = same_tile_count + 1\n",
    "            \n",
    "    return same_tile_count\n",
    "\n",
    "\n",
    "def vert_match_length(board, point):\n",
    "    first = board[point]\n",
    "    (r,c) = point\n",
    "    (row_count, col_count) = board.shape\n",
    "    same_tile_count = 1    \n",
    "    \n",
    "    for i in range(r+1, row_count):\n",
    "        if(board[i,c] != first):\n",
    "            return same_tile_count\n",
    "        else:\n",
    "            same_tile_count = same_tile_count + 1\n",
    "            \n",
    "    return same_tile_count\n",
    "\n",
    "\n",
    "def find_matches(board, required_matches):\n",
    "    horiz_matches = []\n",
    "    vert_matches = []\n",
    "    \n",
    "    (row_count, col_count) = board.shape\n",
    "    \n",
    "    for r in range(row_count):\n",
    "        for c in range(col_count):\n",
    "            point = (r,c)\n",
    "            \n",
    "            horiz_len = horiz_match_length(board, point)\n",
    "            if horiz_len >= required_matches:\n",
    "                horiz_matches.append((r, c, horiz_len))  \n",
    "            \n",
    "            vert_len = vert_match_length(board, point)\n",
    "            if vert_len >= required_matches:\n",
    "                vert_matches.append((r, c, vert_len))\n",
    "                \n",
    "    return (horiz_matches, vert_matches)\n",
    "\n",
    "\n",
    "def remove_matching_tiles(board, horiz_matches, vert_matches):\n",
    "    for (r, c, length) in horiz_matches:\n",
    "         for i in range(c, c+length):\n",
    "                board[r, i] = -1\n",
    "    \n",
    "    for (r, c, length) in vert_matches:\n",
    "        for i in range(r, r+length):\n",
    "            board[i, c] = -1\n",
    "            \n",
    "            \n",
    "def pull_down_cell(board, point, number_of_types):\n",
    "    (r, c) = point\n",
    "    for r_above in reversed(range(r)):    \n",
    "        if(board[r_above, c] != -1):            \n",
    "            board[r,c] = board[r_above,c]\n",
    "            board[r_above,c] = -1\n",
    "            break\n",
    "    if(board[r,c] == -1):\n",
    "        board[r,c] = np.random.randint(number_of_types)\n",
    "        \n",
    "        \n",
    "def pull_down_cells(board, number_of_types):\n",
    "    for r in reversed(range(board.shape[0])):\n",
    "        for c in range(board.shape[1]):\n",
    "            if(board[r,c] == -1):\n",
    "                pull_down_cell(board, (r, c), number_of_types)\n",
    "                \n",
    "\n",
    "def update_grid(grid, board):\n",
    "    grid.data = board\n",
    "    time.sleep(0.25)\n",
    "    \n",
    "                \n",
    "def process_matches(board, number_of_types, required_matches, refresh):\n",
    "    \n",
    "    # Pass in the required_matches\n",
    "    (h_matches, v_matches) = find_matches(board, required_matches)\n",
    "    remove_matching_tiles(board, h_matches, v_matches)\n",
    "    match_count = len(h_matches) + len(v_matches)    \n",
    "    \n",
    "    if match_count > 0:        \n",
    "        refresh()\n",
    "        pull_down_cells(board, number_of_types)\n",
    "        refresh()\n",
    "        # Pass the required_matches to the next process_matches\n",
    "        count = process_matches(board, number_of_types, required_matches, refresh)\n",
    "        match_count = match_count + count\n",
    "        \n",
    "    return match_count\n",
    "\n",
    "\n",
    "def handle_click(grid, point, required_matches):   \n",
    "        \n",
    "    grid.toggle_select(point)\n",
    "    \n",
    "    if len(grid.selected) < 2:\n",
    "        return    \n",
    "    \n",
    "    board = grid.data\n",
    "    refresh = lambda: update_grid(grid, board)\n",
    "    last_point = grid.selected[0]\n",
    "   \n",
    "    swap_items(board, last_point, point)\n",
    "    refresh()\n",
    "    \n",
    "    grid.toggle_select(last_point)\n",
    "    grid.toggle_select(point)\n",
    "    \n",
    "    number_of_types = len(grid.images)\n",
    "    # Process all matches and get the total number found\n",
    "    match_count = process_matches(board, number_of_types, required_matches, refresh)\n",
    "    \n",
    "    if(match_count == 0):\n",
    "        # We havent found any matches so swap back\n",
    "        swap_items(board, last_point, point)      \n",
    "        refresh()"
   ]
  },
  {
   "cell_type": "markdown",
   "metadata": {},
   "source": [
    "And we can use this code as follows:"
   ]
  },
  {
   "cell_type": "code",
   "execution_count": 2,
   "metadata": {},
   "outputs": [
    {
     "data": {
      "application/vnd.jupyter.widget-view+json": {
       "model_id": "",
       "version_major": 2,
       "version_minor": 0
      },
      "text/plain": [
       "GameGrid()"
      ]
     },
     "metadata": {},
     "output_type": "display_data"
    }
   ],
   "source": [
    "find_all_grid = GameGrid()\n",
    "find_all_grid.data = np.array([\n",
    "    [1,2,1,4,1],\n",
    "    [3,3,2,3,4],\n",
    "    [2,1,3,3,2],\n",
    "    [4,4,1,2,3]\n",
    "])\n",
    "\n",
    "required_matches = 3\n",
    "\n",
    "find_all_grid.on_click(\n",
    "    lambda g, r, c: handle_click(g, (r, c), required_matches))\n",
    "\n",
    "display(find_all_grid)"
   ]
  },
  {
   "cell_type": "markdown",
   "metadata": {},
   "source": [
    "## Create Grid Function\n",
    "\n",
    "We are now ready to put this all together into a single function that creates our grid. So lets make a function `create_grid(...)`  that takes parameters `rows`, `cols` and `required_matches` and does the following:\n",
    "- Creates a new grid of a size `rows` x `cols`\n",
    "- Setup the `on_click(...)` to process matches of the size specified in the `required_matches` parameter\n",
    "- Create a new board with random data\n",
    "- Make sure we dont have any initial matches \n",
    "- Return the grid"
   ]
  },
  {
   "cell_type": "code",
   "execution_count": 3,
   "metadata": {},
   "outputs": [],
   "source": [
    "def create_grid(rows, cols, required_matches):\n",
    "        \n",
    "    # Create a new grid and \n",
    "    grid = GameGrid()    \n",
    "    grid.on_click(\n",
    "        lambda g, r, c: handle_click(g, (r, c), required_matches))\n",
    "    \n",
    "    # Create a new Random Board\n",
    "    number_of_types = len(grid.images)\n",
    "    board = np.random.randint(number_of_types, size=(rows, cols))\n",
    "    process_matches(board, number_of_types, required_matches, lambda: None)\n",
    "    grid.data = board\n",
    "        \n",
    "    return grid"
   ]
  },
  {
   "cell_type": "markdown",
   "metadata": {},
   "source": [
    "To create our random board, we use `np.random.randint(...)`. After this we must call `process_matches(...)` because we want to make sure our random grid doesnt already have any matches.\n",
    "\n",
    "When we call `process_matches(...)`, we pass in `lambda: None` as the last parameter. Recall that the last parameter of `process_matches(...)` is a function that updates the grid on screen. We dont want to update the grid on screen when we create and process the board, so we can pass `lambda: None` as a way of saying do nothing.\n",
    "\n",
    "We can now use our function to create a new game grid of whatever size we like, that matches whatever number of tiles we want:"
   ]
  },
  {
   "cell_type": "code",
   "execution_count": 5,
   "metadata": {},
   "outputs": [
    {
     "data": {
      "application/vnd.jupyter.widget-view+json": {
       "model_id": "448562554a4445169d8dc4662e4fa365",
       "version_major": 2,
       "version_minor": 0
      },
      "text/plain": [
       "GameGrid()"
      ]
     },
     "metadata": {},
     "output_type": "display_data"
    }
   ],
   "source": [
    "grid = create_grid(6, 8, 4)\n",
    "display(grid)"
   ]
  },
  {
   "cell_type": "markdown",
   "metadata": {},
   "source": [
    "And thats it! If we want to create a new game we can use call `create_grid(...)` with the number of rows, columns and required matches."
   ]
  },
  {
   "cell_type": "markdown",
   "metadata": {},
   "source": [
    "## Summary\n",
    "\n",
    "In this lesson we learned how to put all of our components together to create the game.\n",
    "\n",
    "This is the final tutorial, but there are a few extra notebooks that show the code for doing some other tasks:\n",
    "* [Creating a New Game Button](Extras1-NewGame.ipynb)\n",
    "* [Adding a Score](Extras2-Score.ipynb)\n",
    "* [Using Different Images](Extras3-DifferentImages.ipynb)\n",
    "* [Handling Game Over](Extras4-GameOver.ipynb)"
   ]
  },
  {
   "cell_type": "code",
   "execution_count": null,
   "metadata": {},
   "outputs": [],
   "source": []
  }
 ],
 "metadata": {
  "kernelspec": {
   "display_name": "Python 3",
   "language": "python",
   "name": "python3"
  },
  "language_info": {
   "codemirror_mode": {
    "name": "ipython",
    "version": 3
   },
   "file_extension": ".py",
   "mimetype": "text/x-python",
   "name": "python",
   "nbconvert_exporter": "python",
   "pygments_lexer": "ipython3",
   "version": "3.6.7"
  }
 },
 "nbformat": 4,
 "nbformat_minor": 2
}

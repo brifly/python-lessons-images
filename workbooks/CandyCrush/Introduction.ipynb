{
 "cells": [
  {
   "cell_type": "markdown",
   "metadata": {},
   "source": [
    "# Candy Crush in Python\n",
    "\n",
    "In this tutorial we will create a candy crush style game from scratch using python.\n",
    "\n",
    "## The Game\n",
    "\n",
    "The game consists of a grid of tiles, each tile containing one of five different gem stones. The player must try to get three or more of the same gem stone in a row, either horizontally or vertically. The played does this by clicking two neighbouring tiles to swap them. If a swap results in three or more tiles in a horizontal or vertical row all of the tiles in that row are removed, otherwise the tiles are swapped back. After the tiles have been removed, the tiles above drop down to fill the space, and new tiles are added in to fill any remaining spaces at the top.\n",
    "\n",
    "![Gameplay](https://brifly.github.io/python-lessons-images/gamerules.png)\n",
    "\n",
    "## Structure of the Tutorial\n",
    "\n",
    "The tutorial is broken up into 6 parts:\n",
    "* [Game Representation](Part1-GameBoard.ipynb)\n",
    "* [Swapping Tiles](Part2-Swapping.ipynb)\n",
    "* [Matching Tiles](Part3-Matching.ipynb)\n",
    "* [Removing Matches and Filling in Blank Spaces](Part4-RemoveAndReplace.ipynb)\n",
    "* [Adding Interactivity](Part5-Interactivity.ipynb)\n",
    "* [Putting Everything Together](Part6-PuttingItTogether.ipynb)\n",
    "\n",
    "There is also an additonal part which shows the code for:\n",
    "* [Creating a New Game Button](Extras1-NewGame.ipynb)\n",
    "* [Adding a Score](Extras2-Score.ipynb)\n",
    "* [Using Different Images](Extras3-DifferentImages.ipynb)\n",
    "* [Handling Game Over](Extras4-GameOver.ipynb)\n",
    "\n",
    "So lets start with [Creating and Displaying the Game Board](GameBoard.ipynb)\n",
    "\n",
    "## Pre-requisites\n",
    "\n",
    "### What you should know\n",
    "\n",
    "This is a beginner project for python, it assumes you have a very basic understanding of python, you should know the following before beginning:\n",
    "\n",
    "* What types are (e.g. integer, string)\n",
    "* Defining and using variables\n",
    "* How to use operators on variables and values\n",
    "* Writing expressions\n",
    "* How to write an if statement\n",
    "* What a function is and how define one\n",
    "* How to create an object and call a function on \n",
    "* Writing loops and using the range function\n",
    "\n",
    "All of these topics are covered in these notebooks - so go through these if you need to get up to speed on the above:\n",
    "* [Introduction to Python](../Introduction.ipynb)\n",
    "* [Types, Expressions and Variables](../TypesExpressionsAndVars.ipynb)\n",
    "* [Control Flow](../ControlFlow.ipynb)\n",
    "* [Functions](../Functions.ipynb)\n",
    "\n",
    "### Required Components\n",
    "\n",
    "The project uses two libraries, numpy and gamegrid. Its possible that you will have the numpy library installed already in jupyter, but if not simply run `pip install numpy` on the machine running jupyter - or you can do it directly in jupyter by running the command below:"
   ]
  },
  {
   "cell_type": "code",
   "execution_count": null,
   "metadata": {},
   "outputs": [],
   "source": [
    "!pip install numpy"
   ]
  },
  {
   "cell_type": "markdown",
   "metadata": {},
   "source": [
    "The gamegrid library was built specifically for this project and as such you will not have it installed. \n",
    "\n",
    "To install run the command `pip install gamegrid`"
   ]
  },
  {
   "cell_type": "code",
   "execution_count": null,
   "metadata": {},
   "outputs": [],
   "source": [
    "!pip install gamegrid"
   ]
  },
  {
   "cell_type": "markdown",
   "metadata": {},
   "source": [
    "You will also need to install and enable the the gamegrid extension using:\n",
    "`jupyter nbextension install gamegrid`\n",
    "and\n",
    "`jupyter nbextension enable gamegrid --user --py`"
   ]
  },
  {
   "cell_type": "code",
   "execution_count": null,
   "metadata": {},
   "outputs": [],
   "source": [
    "!jupyter nbextension install gamegrid --py --user"
   ]
  },
  {
   "cell_type": "code",
   "execution_count": null,
   "metadata": {},
   "outputs": [],
   "source": [
    "!jupyter nbextension enable gamegrid --user --py"
   ]
  },
  {
   "cell_type": "markdown",
   "metadata": {},
   "source": [
    "Note this component currently does not work on azure notebooks."
   ]
  },
  {
   "cell_type": "code",
   "execution_count": null,
   "metadata": {},
   "outputs": [],
   "source": []
  }
 ],
 "metadata": {
  "kernelspec": {
   "display_name": "Python 3",
   "language": "python",
   "name": "python3"
  },
  "language_info": {
   "codemirror_mode": {
    "name": "ipython",
    "version": 3
   },
   "file_extension": ".py",
   "mimetype": "text/x-python",
   "name": "python",
   "nbconvert_exporter": "python",
   "pygments_lexer": "ipython3",
   "version": "3.6.3"
  }
 },
 "nbformat": 4,
 "nbformat_minor": 2
}

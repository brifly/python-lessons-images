{
 "cells": [
  {
   "cell_type": "markdown",
   "metadata": {},
   "source": [
    "# Candy Crush in Python - Part 4 - Removing Matches and Filling in Blank Spaces\n",
    "\n",
    "In this lesson we will write add some interactivity to our grid, when the user clicks the two cells beside eachother in the grid, we want to swap the tiles and to run all of our other functions to find and remove matches, as well as refill blank spaces left over.\n",
    "\n",
    "# Code Recap\n",
    "\n",
    "So far we have:\n",
    "* Our game board and function to display the grid\n",
    "* A function to swap two cells beside eachother\n",
    "* A function to find all matches of a particular length on the board\n",
    "* A function to remove matches\n",
    "* A function to refill the empty spaces either with the cells from above, or random cells"
   ]
  },
  {
   "cell_type": "code",
   "execution_count": 1,
   "metadata": {},
   "outputs": [],
   "source": [
    "import numpy as np\n",
    "from gamegrid import GameGrid\n",
    "from IPython.display import display\n",
    "\n",
    "\n",
    "def show_board(board_array):\n",
    "    grid = GameGrid()\n",
    "    grid.data = board_array\n",
    "    display(grid)\n",
    "    \n",
    "\n",
    "def swap_items(board, first, second):    \n",
    "    dist = np.sum(np.abs(np.subtract(second, first)))\n",
    "    \n",
    "    is_beside = dist <= 1\n",
    "    \n",
    "    if(is_beside):\n",
    "        tmp = board[first]\n",
    "        board[first] = board[second]        \n",
    "        board[second] = tmp \n",
    "\n",
    "\n",
    "def horiz_match_length(board, point):\n",
    "    first = board[point]\n",
    "    (r, c) = point\n",
    "    (row_count, col_count) = board.shape\n",
    "    same_tile_count = 1\n",
    "    \n",
    "    for i in range(c+1, col_count):\n",
    "        if(board[r, i] != first):\n",
    "            return same_tile_count\n",
    "        else:\n",
    "            same_tile_count = same_tile_count + 1\n",
    "            \n",
    "    return same_tile_count\n",
    "\n",
    "\n",
    "def vert_match_length(board, point):\n",
    "    first = board[point]\n",
    "    (r,c) = point\n",
    "    (row_count, col_count) = board.shape\n",
    "    same_tile_count = 1    \n",
    "    \n",
    "    for i in range(r+1, row_count):\n",
    "        if(board[i,c] != first):\n",
    "            return same_tile_count\n",
    "        else:\n",
    "            same_tile_count = same_tile_count + 1\n",
    "            \n",
    "    return same_tile_count\n",
    "\n",
    "\n",
    "def find_matches(board, required_matches):\n",
    "    horiz_matches = []\n",
    "    vert_matches = []\n",
    "    \n",
    "    (row_count, col_count) = board.shape\n",
    "    \n",
    "    for r in range(row_count):\n",
    "        for c in range(col_count):\n",
    "            point = (r,c)\n",
    "            \n",
    "            horiz_len = horiz_match_length(board, point)\n",
    "            if horiz_len >= required_matches:\n",
    "                horiz_matches.append((r, c, horiz_len))  \n",
    "            \n",
    "            vert_len = vert_match_length(board, point)\n",
    "            if vert_len >= required_matches:\n",
    "                vert_matches.append((r, c, vert_len))\n",
    "                \n",
    "    return (horiz_matches, vert_matches)\n",
    "\n",
    "\n",
    "def remove_matching_tiles(board, horiz_matches, vert_matches):\n",
    "    for (r, c, length) in horiz_matches:\n",
    "         for i in range(c, c+length):\n",
    "                board[r, i] = -1\n",
    "    \n",
    "    for (r, c, length) in vert_matches:\n",
    "        for i in range(r, r+length):\n",
    "            board[i, c] = -1\n",
    "            \n",
    "            \n",
    "def pull_down_cell(board, point, number_of_types):\n",
    "    (r, c) = point\n",
    "    for r_above in reversed(range(r)):    \n",
    "        if(board[r_above, c] != -1):            \n",
    "            board[r,c] = board[r_above,c]\n",
    "            board[r_above,c] = -1\n",
    "            break\n",
    "    if(board[r,c] == -1):\n",
    "        board[r,c] = np.random.randint(number_of_types)\n",
    "        \n",
    "        \n",
    "def pull_down_cells(board, number_of_types):\n",
    "    for r in reversed(range(board.shape[0])):\n",
    "        for c in range(board.shape[1]):\n",
    "            if(board[r,c] == -1):\n",
    "                pull_down_cell(board, (r, c), number_of_types)"
   ]
  },
  {
   "cell_type": "markdown",
   "metadata": {},
   "source": [
    "## Click Handling\n",
    "\n",
    "The GameGrid widget has a function called on_click, that allows us to add a function to be called whenever the grid is clicked. Lets try it out:"
   ]
  },
  {
   "cell_type": "code",
   "execution_count": 3,
   "metadata": {},
   "outputs": [
    {
     "data": {
      "application/vnd.jupyter.widget-view+json": {
       "model_id": "547aa898c2674c8c9bb14533f5a5f5fd",
       "version_major": 2,
       "version_minor": 0
      },
      "text/plain": [
       "GameGrid()"
      ]
     },
     "metadata": {},
     "output_type": "display_data"
    }
   ],
   "source": [
    "interactive_grid = GameGrid()\n",
    "interactive_grid.data = np.array([\n",
    "    [1,2,1,4,1],\n",
    "    [3,3,2,3,1],\n",
    "    [2,1,4,3,2],\n",
    "    [4,4,1,2,3]\n",
    "])\n",
    "\n",
    "def interactive_on_click(grid, row, col):\n",
    "    print('Clicked (' + str(row) + ', ' + str(col) + ')')\n",
    "\n",
    "interactive_grid.on_click(interactive_on_click)\n",
    "display(interactive_grid)"
   ]
  },
  {
   "cell_type": "markdown",
   "metadata": {},
   "source": [
    "When you click one of the cells in this grid, it prints out the cell that was clicked. We can make this a little nicer to read using a lambda expression - which is just a way of writing a function in a single line:"
   ]
  },
  {
   "cell_type": "code",
   "execution_count": 5,
   "metadata": {},
   "outputs": [
    {
     "data": {
      "application/vnd.jupyter.widget-view+json": {
       "model_id": "e7bb5022e2be4a6e97d963d15ff2c971",
       "version_major": 2,
       "version_minor": 0
      },
      "text/plain": [
       "GameGrid()"
      ]
     },
     "metadata": {},
     "output_type": "display_data"
    }
   ],
   "source": [
    "interactive_grid_lambda = GameGrid()\n",
    "interactive_grid_lambda.data = np.array([\n",
    "    [1,2,1,4,1],\n",
    "    [3,3,2,3,1],\n",
    "    [2,1,4,3,2],\n",
    "    [4,4,1,2,3]\n",
    "])\n",
    "\n",
    "interactive_grid_lambda.on_click(lambda g, r, c: print('(Lambda) Clicked (' + str(r) + ', ' + str(c) + ')'))\n",
    "display(interactive_grid_lambda)"
   ]
  },
  {
   "cell_type": "markdown",
   "metadata": {},
   "source": [
    "## Swapping on Click\n",
    "\n",
    "When we click on one cell, then another, we want it to swap those cells - i.e. to call our `swap_items(...)` function.\n",
    "\n",
    "### Toggle Select\n",
    "\n",
    "The GameGrid we use to display our board has a `toggle_select(...)` function, which will show the cell as selected. The function takes a tuple with the row and column of the point we want to select."
   ]
  },
  {
   "cell_type": "code",
   "execution_count": 6,
   "metadata": {},
   "outputs": [
    {
     "data": {
      "application/vnd.jupyter.widget-view+json": {
       "model_id": "821f45d8d3bf40b3bb5e4b42d3a8e967",
       "version_major": 2,
       "version_minor": 0
      },
      "text/plain": [
       "GameGrid()"
      ]
     },
     "metadata": {},
     "output_type": "display_data"
    }
   ],
   "source": [
    "select_grid = GameGrid()\n",
    "select_grid.data = np.array([\n",
    "    [1,2,1,4,1],\n",
    "    [3,3,2,3,1],\n",
    "    [2,1,4,3,2],\n",
    "    [4,4,1,2,3]\n",
    "])\n",
    "\n",
    "display(select_grid)\n",
    "\n",
    "# Select\n",
    "select_grid.toggle_select((1,3))"
   ]
  },
  {
   "cell_type": "markdown",
   "metadata": {},
   "source": [
    "### Selection Click Handler\n",
    "\n",
    "We are now ready to create a handler that will select the cell we clicked on:"
   ]
  },
  {
   "cell_type": "code",
   "execution_count": 8,
   "metadata": {},
   "outputs": [
    {
     "data": {
      "application/vnd.jupyter.widget-view+json": {
       "model_id": "42b6537cc650492eacf3ec91bcf0faa9",
       "version_major": 2,
       "version_minor": 0
      },
      "text/plain": [
       "GameGrid()"
      ]
     },
     "metadata": {},
     "output_type": "display_data"
    }
   ],
   "source": [
    "def handle_click(grid, point):       \n",
    "    grid.toggle_select(point)\n",
    "    \n",
    "select_grid = GameGrid()\n",
    "select_grid.on_click(lambda g, r, c: handle_click(g, (r, c)))\n",
    "select_grid.data = np.array([\n",
    "    [1,2,1,4,1],\n",
    "    [3,3,2,3,1],\n",
    "    [2,1,4,3,2],\n",
    "    [4,4,1,2,3]\n",
    "])\n",
    "\n",
    "display(select_grid)"
   ]
  },
  {
   "cell_type": "markdown",
   "metadata": {},
   "source": [
    "When we click cells in this grid, it toggles the selection.\n",
    "\n",
    "### Handle Click with Swapping\n",
    "\n",
    "We can change our `handle_click(...)` function to do our swapping, which will do the following:\n",
    "\n",
    "* If nothing is selected yet, then select what was clicked and return\n",
    "* If the point we clicked is the one we selected previously, then deselect it and return\n",
    "* Otherwise we have two different points, so try to swap them\n",
    "  * We should then deselect the first point that was clicked\n",
    "  * We need to also update the grid"
   ]
  },
  {
   "cell_type": "code",
   "execution_count": 9,
   "metadata": {},
   "outputs": [],
   "source": [
    "def handle_click(grid, point):   \n",
    "    \n",
    "    grid.toggle_select(point)\n",
    "    \n",
    "    # If we have zero or 1 points selected we dont need to do anymore\n",
    "    if len(grid.selected) < 2:\n",
    "        return    \n",
    "    \n",
    "    # lets get the current board\n",
    "    board = grid.data\n",
    "    last_point = grid.selected[0]\n",
    "    \n",
    "    # We have two different points, so we try to swap them\n",
    "    swap_items(board, last_point, point)\n",
    "    \n",
    "    # Deselect both points\n",
    "    grid.toggle_select(last_point)\n",
    "    grid.toggle_select(point)\n",
    "    \n",
    "    # Update the grid\n",
    "    grid.data = board"
   ]
  },
  {
   "cell_type": "markdown",
   "metadata": {},
   "source": [
    "We can test this out:"
   ]
  },
  {
   "cell_type": "code",
   "execution_count": 11,
   "metadata": {},
   "outputs": [
    {
     "data": {
      "application/vnd.jupyter.widget-view+json": {
       "model_id": "0d589aa15c054d52b1570244eba7e2ec",
       "version_major": 2,
       "version_minor": 0
      },
      "text/plain": [
       "GameGrid()"
      ]
     },
     "metadata": {},
     "output_type": "display_data"
    }
   ],
   "source": [
    "swap_click_grid = GameGrid()\n",
    "swap_click_grid.data = np.array([\n",
    "    [1,2,1,4,1],\n",
    "    [3,3,2,3,4],\n",
    "    [2,1,4,3,2],\n",
    "    [4,4,1,2,3]\n",
    "])\n",
    "\n",
    "swap_click_grid.on_click(\n",
    "    lambda g, r, c: handle_click(g, (r, c)))\n",
    "\n",
    "display(swap_click_grid)"
   ]
  },
  {
   "cell_type": "markdown",
   "metadata": {},
   "source": [
    "## Finding matches after we swap\n",
    "\n",
    "After we have swapped we want to check and remove any matches, so we will extend our function to do the following:\n",
    "- After we swap, find all matches matches of length 3 or more\n",
    "- If there are matches\n",
    "  - Remove all matches\n",
    "  - Fill in the blank cells\n",
    "- If there arent any matches\n",
    "  - Swap the two cells back  "
   ]
  },
  {
   "cell_type": "code",
   "execution_count": 12,
   "metadata": {},
   "outputs": [],
   "source": [
    "def handle_click(grid, point):   \n",
    "    \n",
    "    # Select the Point\n",
    "    grid.toggle_select(point)\n",
    "    \n",
    "    # If we only have 0 or 1 points selected \n",
    "    #  then return right away\n",
    "    if len(grid.selected) < 2:\n",
    "        return    \n",
    "    \n",
    "    # We have two points selected, get the\n",
    "    #  board and the first selected point\n",
    "    board = grid.data\n",
    "    last_point = grid.selected[0]\n",
    "   \n",
    "    # Swap Items\n",
    "    swap_items(board, last_point, point)\n",
    "    \n",
    "    # Deselect both points\n",
    "    grid.toggle_select(last_point)\n",
    "    grid.toggle_select(point)\n",
    "    \n",
    "    # Find all matches\n",
    "    (h_matches, v_matches) = find_matches(board, 3)\n",
    "    match_count = len(h_matches) + len(v_matches)\n",
    "    \n",
    "    if(match_count > 0):          \n",
    "        # We found some matches so remove them and re-fill the board\n",
    "        remove_matching_tiles(board, h_matches, v_matches)\n",
    "        # The number of types is the same as the number of images on our grid\n",
    "        number_of_types = len(grid.images)\n",
    "        pull_down_cells(board, number_of_types)\n",
    "    else:\n",
    "        # We havent found any matches so swap back\n",
    "        swap_items(board, last_point, point)        \n",
    "    \n",
    "    # Update the grid with the new board\n",
    "    grid.data = board    "
   ]
  },
  {
   "cell_type": "markdown",
   "metadata": {},
   "source": [
    "And we can test this now:"
   ]
  },
  {
   "cell_type": "code",
   "execution_count": 13,
   "metadata": {},
   "outputs": [
    {
     "data": {
      "application/vnd.jupyter.widget-view+json": {
       "model_id": "328a8ed521924d85a42f74fa011d3e94",
       "version_major": 2,
       "version_minor": 0
      },
      "text/plain": [
       "GameGrid()"
      ]
     },
     "metadata": {},
     "output_type": "display_data"
    }
   ],
   "source": [
    "swap_click_grid = GameGrid()\n",
    "swap_click_grid.data = np.array([\n",
    "    [1,2,1,4,1],\n",
    "    [3,3,2,3,4],\n",
    "    [2,1,4,3,2],\n",
    "    [4,4,1,2,3]\n",
    "])\n",
    "\n",
    "swap_click_grid.on_click(\n",
    "    lambda g, r, c: handle_click(g, (r, c)))\n",
    "\n",
    "display(swap_click_grid)"
   ]
  },
  {
   "cell_type": "markdown",
   "metadata": {},
   "source": [
    "This is starting to get close to our finished game - but there are a few issues remaining:\n",
    "1. After we remove matches and re-fill, the grid might have more matches, we need to remove all of these also\n",
    "2. All of the steps happen at the same time, so its hard to see what is going on\n",
    "3. We only check for matches of 3 - we might want to make our game a little harder by checking for matches of 4 or more\n",
    "\n",
    "## Processing Matches Recursively\n",
    "\n",
    "As we noticed above, we only check for matches once. After we remove matches and fill in the blank cells we might have more matches - so we need to keep checking for matches and removing until there are no more matches - so lets create a function to handle this.\n",
    "\n",
    "In our function, we will:\n",
    "1. Check for matches\n",
    "2. Remove matches and fill in the blank cells\n",
    "3. If there were matches, then call itself again\n",
    "4. Return the number of matches we found\n",
    "\n",
    "We need to get back the matches we found so that we can decide if we need to swap back or not. "
   ]
  },
  {
   "cell_type": "code",
   "execution_count": 14,
   "metadata": {},
   "outputs": [],
   "source": [
    "def process_matches(board, number_of_types):\n",
    "    \n",
    "    # Find all matches on the board\n",
    "    (h_matches, v_matches) = find_matches(board, 3)\n",
    "    # Remove the matches\n",
    "    remove_matching_tiles(board, h_matches, v_matches)\n",
    "    # Check if we gont any matches\n",
    "    match_count = len(h_matches) + len(v_matches)    \n",
    "    \n",
    "    if match_count > 0:\n",
    "        # We have matches so pull down cells\n",
    "        pull_down_cells(board, number_of_types)\n",
    "        # We might have more matches, so call process_matches(board)\n",
    "        #  again to remove them\n",
    "        count = process_matches(board, number_of_types)\n",
    "        match_count = match_count + count\n",
    "        \n",
    "    return match_count"
   ]
  },
  {
   "cell_type": "markdown",
   "metadata": {},
   "source": [
    "We need to also update our handle_click function to use this function:"
   ]
  },
  {
   "cell_type": "code",
   "execution_count": 15,
   "metadata": {},
   "outputs": [],
   "source": [
    "def handle_click(grid, point):   \n",
    "    \n",
    "    grid.toggle_select(point)\n",
    "    \n",
    "    if len(grid.selected) < 2:\n",
    "        return    \n",
    "    \n",
    "    board = grid.data\n",
    "    last_point = grid.selected[0]\n",
    "   \n",
    "    swap_items(board, last_point, point)\n",
    "    \n",
    "    grid.toggle_select(last_point)\n",
    "    grid.toggle_select(point)\n",
    "    \n",
    "    number_of_types = len(grid.images)\n",
    "    # Process all matches and get the total number found\n",
    "    match_count = process_matches(board, number_of_types)\n",
    "    \n",
    "    if(match_count == 0):\n",
    "        # We havent found any matches so swap back\n",
    "        swap_items(board, last_point, point)        \n",
    "    \n",
    "    \n",
    "    grid.data = board    "
   ]
  },
  {
   "cell_type": "markdown",
   "metadata": {},
   "source": [
    "We can test these new functions as follows:"
   ]
  },
  {
   "cell_type": "code",
   "execution_count": 16,
   "metadata": {},
   "outputs": [
    {
     "data": {
      "application/vnd.jupyter.widget-view+json": {
       "model_id": "d8c98693cb814b3c89bd40cf005b24f8",
       "version_major": 2,
       "version_minor": 0
      },
      "text/plain": [
       "GameGrid()"
      ]
     },
     "metadata": {},
     "output_type": "display_data"
    }
   ],
   "source": [
    "find_all_grid = GameGrid()\n",
    "find_all_grid.data = np.array([\n",
    "    [1,2,1,4,1],\n",
    "    [3,3,2,3,4],\n",
    "    [2,1,4,3,2],\n",
    "    [4,4,1,2,3]\n",
    "])\n",
    "\n",
    "find_all_grid.on_click(\n",
    "    lambda g, r, c: handle_click(g, (r, c)))\n",
    "\n",
    "display(find_all_grid)"
   ]
  },
  {
   "cell_type": "markdown",
   "metadata": {},
   "source": [
    "## Updating the Grid at every Step\n",
    "\n",
    "Next we want to be able to see what is going on - we want to see every step that happens on the grid. To do this we need to update the grid each time we make a change. This will update the grid for each change, but it will probably happen too fast for us to see, so we would like to slow things down a bit. We can use the `time.sleep(...)` function to do this for us.\n",
    "\n",
    "Lets create a function to update the grid, and to pause for a little bit after each change. We will pause for 1/4 a second, which is enough time to show what is happening."
   ]
  },
  {
   "cell_type": "code",
   "execution_count": 17,
   "metadata": {},
   "outputs": [],
   "source": [
    "import time\n",
    "def update_grid(grid, board):\n",
    "    grid.data = board\n",
    "    time.sleep(0.25)"
   ]
  },
  {
   "cell_type": "markdown",
   "metadata": {},
   "source": [
    "In our process matches function, we dont really want to put details of the updating in this function, so we can just pass it a a function called refresh that will do the actual update."
   ]
  },
  {
   "cell_type": "code",
   "execution_count": 18,
   "metadata": {},
   "outputs": [],
   "source": [
    "def process_matches(board, number_of_types, refresh):\n",
    "    \n",
    "    (h_matches, v_matches) = find_matches(board, 3)\n",
    "    remove_matching_tiles(board, h_matches, v_matches)\n",
    "    match_count = len(h_matches) + len(v_matches)    \n",
    "    \n",
    "    if match_count > 0:        \n",
    "        refresh()\n",
    "        pull_down_cells(board, number_of_types)\n",
    "        refresh()\n",
    "        count = process_matches(board, number_of_types, refresh)\n",
    "        match_count = match_count + count\n",
    "        \n",
    "    return match_count"
   ]
  },
  {
   "cell_type": "markdown",
   "metadata": {},
   "source": [
    "No we update our `handle_click(...)` function:"
   ]
  },
  {
   "cell_type": "code",
   "execution_count": 19,
   "metadata": {},
   "outputs": [],
   "source": [
    "def handle_click(grid, point):   \n",
    "        \n",
    "    grid.toggle_select(point)\n",
    "    \n",
    "    if len(grid.selected) < 2:\n",
    "        return    \n",
    "    \n",
    "    board = grid.data\n",
    "    # Create our refresh function that will update the grid\n",
    "    #  and pause so we can see the update\n",
    "    refresh = lambda: update_grid(grid, board)\n",
    "    last_point = grid.selected[0]\n",
    "   \n",
    "    swap_items(board, last_point, point)\n",
    "    # We have made a change so refresh the grid\n",
    "    refresh()\n",
    "    \n",
    "    grid.toggle_select(last_point)\n",
    "    grid.toggle_select(point)\n",
    "    \n",
    "    number_of_types = len(grid.images)\n",
    "    # We pass the refresh function to process_matches\n",
    "    #  so that it can update the grid every time it changes\n",
    "    #  something\n",
    "    match_count = process_matches(board, number_of_types, refresh)\n",
    "    \n",
    "    if(match_count == 0):\n",
    "        # We havent found any matches so swap back\n",
    "        swap_items(board, last_point, point)      \n",
    "        refresh()  "
   ]
  },
  {
   "cell_type": "markdown",
   "metadata": {},
   "source": [
    "And we test:"
   ]
  },
  {
   "cell_type": "code",
   "execution_count": 21,
   "metadata": {},
   "outputs": [
    {
     "data": {
      "application/vnd.jupyter.widget-view+json": {
       "model_id": "bb3e5edfa91041d284555635e72cfd76",
       "version_major": 2,
       "version_minor": 0
      },
      "text/plain": [
       "GameGrid()"
      ]
     },
     "metadata": {},
     "output_type": "display_data"
    }
   ],
   "source": [
    "find_all_grid = GameGrid()\n",
    "find_all_grid.data = np.array([\n",
    "    [1,2,1,4,1],\n",
    "    [3,3,2,3,4],\n",
    "    [2,1,4,3,2],\n",
    "    [4,4,1,2,3]\n",
    "])\n",
    "\n",
    "find_all_grid.on_click(\n",
    "    lambda g, r, c: handle_click(g, (r, c)))\n",
    "\n",
    "display(find_all_grid)"
   ]
  },
  {
   "cell_type": "markdown",
   "metadata": {},
   "source": [
    "### Allowing different number of matches\n",
    "\n",
    "The last thing we want to do is to allow a different number of matches.\n",
    "\n",
    "We currently pass the number 3 to the find_matches(...) function, we can simply change this to a variable to allow us to specify any number. So lets update our process_matches(...) function to make this a variable."
   ]
  },
  {
   "cell_type": "code",
   "execution_count": 22,
   "metadata": {},
   "outputs": [],
   "source": [
    "# Add the required_matches parameter\n",
    "def process_matches(board, number_of_types, required_matches, refresh):\n",
    "    \n",
    "    # Pass in the required_matches\n",
    "    (h_matches, v_matches) = find_matches(board, required_matches)\n",
    "    remove_matching_tiles(board, h_matches, v_matches)\n",
    "    match_count = len(h_matches) + len(v_matches)    \n",
    "    \n",
    "    if match_count > 0:        \n",
    "        refresh()\n",
    "        pull_down_cells(board, number_of_types)\n",
    "        refresh()\n",
    "        # Pass the required_matches to the next process_matches\n",
    "        count = process_matches(board, number_of_types, required_matches, refresh)\n",
    "        match_count = match_count + count\n",
    "        \n",
    "    return match_count"
   ]
  },
  {
   "cell_type": "markdown",
   "metadata": {},
   "source": [
    "We call process_matches(...) in handle_click(...), so we must update that too:"
   ]
  },
  {
   "cell_type": "code",
   "execution_count": 23,
   "metadata": {},
   "outputs": [],
   "source": [
    "def handle_click(grid, point, required_matches):   \n",
    "        \n",
    "    grid.toggle_select(point)\n",
    "    \n",
    "    if len(grid.selected) < 2:\n",
    "        return    \n",
    "    \n",
    "    board = grid.data\n",
    "    refresh = lambda: update_grid(grid, board)\n",
    "    last_point = grid.selected[0]\n",
    "   \n",
    "    swap_items(board, last_point, point)\n",
    "    refresh()\n",
    "    \n",
    "    grid.toggle_select(last_point)\n",
    "    grid.toggle_select(point)\n",
    "    \n",
    "    number_of_types = len(grid.images)\n",
    "    # Process all matches and get the total number found\n",
    "    match_count = process_matches(board, number_of_types, required_matches, refresh)\n",
    "    \n",
    "    if(match_count == 0):\n",
    "        # We havent found any matches so swap back\n",
    "        swap_items(board, last_point, point)      \n",
    "        refresh()"
   ]
  },
  {
   "cell_type": "markdown",
   "metadata": {},
   "source": [
    "Now lets test with a new grid:"
   ]
  },
  {
   "cell_type": "code",
   "execution_count": 24,
   "metadata": {},
   "outputs": [
    {
     "data": {
      "application/vnd.jupyter.widget-view+json": {
       "model_id": "aa136b84dea54543a98deec641d80fd4",
       "version_major": 2,
       "version_minor": 0
      },
      "text/plain": [
       "GameGrid()"
      ]
     },
     "metadata": {},
     "output_type": "display_data"
    }
   ],
   "source": [
    "find_all_grid = GameGrid()\n",
    "find_all_grid.data = np.array([\n",
    "    [1,2,1,4,1],\n",
    "    [3,3,2,3,4],\n",
    "    [2,1,3,3,2],\n",
    "    [4,4,1,2,3]\n",
    "])\n",
    "\n",
    "required_matches = 4\n",
    "\n",
    "find_all_grid.on_click(\n",
    "    lambda g, r, c: handle_click(g, (r, c), required_matches))\n",
    "\n",
    "display(find_all_grid)"
   ]
  },
  {
   "cell_type": "markdown",
   "metadata": {},
   "source": [
    "## Summary\n",
    "\n",
    "In this lesson we learned how add interactivity to our grid. We can click select two cells on the grid, swap them and process any matches we find.\n",
    "\n",
    "In the next section we will be [Putting Everything Together](Part6-PuttingItTogether.ipynb)"
   ]
  },
  {
   "cell_type": "code",
   "execution_count": null,
   "metadata": {},
   "outputs": [],
   "source": []
  }
 ],
 "metadata": {
  "kernelspec": {
   "display_name": "Python 3",
   "language": "python",
   "name": "python3"
  },
  "language_info": {
   "codemirror_mode": {
    "name": "ipython",
    "version": 3
   },
   "file_extension": ".py",
   "mimetype": "text/x-python",
   "name": "python",
   "nbconvert_exporter": "python",
   "pygments_lexer": "ipython3",
   "version": "3.6.7"
  }
 },
 "nbformat": 4,
 "nbformat_minor": 2
}

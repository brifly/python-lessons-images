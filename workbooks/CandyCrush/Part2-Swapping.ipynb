{
 "cells": [
  {
   "cell_type": "markdown",
   "metadata": {},
   "source": [
    "# Candy Crush in Python - Part 2 - Swapping\n",
    "\n",
    "In this part of the tutorial we will be adding the first piece of functionality for our game - Swapping two neighbouring tiles.\n",
    "\n",
    "## Code Recap\n",
    "\n",
    "So far we have a game board representation using numpy arrays and a function for helping us display our board on the screen using the gamegrid libary:"
   ]
  },
  {
   "cell_type": "code",
   "execution_count": 1,
   "metadata": {},
   "outputs": [],
   "source": [
    "import numpy as np\n",
    "from gamegrid import GameGrid\n",
    "from IPython.display import display\n",
    "\n",
    "def show_board(board_array):\n",
    "    grid = GameGrid()\n",
    "    grid.data = board_array\n",
    "    display(grid)"
   ]
  },
  {
   "cell_type": "markdown",
   "metadata": {},
   "source": [
    "So we can display a board as follows:"
   ]
  },
  {
   "cell_type": "code",
   "execution_count": 2,
   "metadata": {},
   "outputs": [
    {
     "data": {
      "application/vnd.jupyter.widget-view+json": {
       "model_id": "d269c7b4cde3466b9b31a6ec5fc8399b",
       "version_major": 2,
       "version_minor": 0
      },
      "text/plain": [
       "GameGrid()"
      ]
     },
     "metadata": {},
     "output_type": "display_data"
    }
   ],
   "source": [
    "board = np.array([\n",
    "    [0, 1, 2],\n",
    "    [3, 4, 0],\n",
    "    [1, 2, 3]\n",
    "])\n",
    "\n",
    "show_board(board)"
   ]
  },
  {
   "cell_type": "markdown",
   "metadata": {},
   "source": [
    "## Swapping Values\n",
    "\n",
    "The first function we will create is the swap function. This function will take our game board, two points and swap the values at those two points.\n",
    "\n",
    "### Accessing Values in our board\n",
    "\n",
    "If we want to swap the values in cells on our board, we need to know how to read the value at a given row and column, and how to change a value at a given row or column.\n",
    "\n",
    "We can read our board in several ways, the first way is to get a whole row, we do this by accessing the board by 'index'. This means writing the name of our board variable, followed by the row number in square brackets:"
   ]
  },
  {
   "cell_type": "code",
   "execution_count": 3,
   "metadata": {},
   "outputs": [
    {
     "name": "stdout",
     "output_type": "stream",
     "text": [
      "[0 1 2]\n"
     ]
    }
   ],
   "source": [
    "row_0 = board[0]\n",
    "print(row_0)"
   ]
  },
  {
   "cell_type": "markdown",
   "metadata": {},
   "source": [
    "<div class=\"alert alert-warning\">\n",
    "    <b>Zero Indexing</b>\n",
    "    <p>You will notice that in the example above, to get the first row we use the index 0. Data structures in python generally start with 0, so remember to get the first item you use 0, the second use 1, the 10th use 9.</p>\n",
    "</div>\n",
    "\n",
    "If we want a single cell from our row we can can access the row by index as well:"
   ]
  },
  {
   "cell_type": "code",
   "execution_count": 4,
   "metadata": {},
   "outputs": [
    {
     "name": "stdout",
     "output_type": "stream",
     "text": [
      "0\n"
     ]
    }
   ],
   "source": [
    "row_0 = board[0]\n",
    "row_0_column_0 = row_0[0]\n",
    "print(row_0_column_0)"
   ]
  },
  {
   "cell_type": "markdown",
   "metadata": {},
   "source": [
    "We can also do this in a single step:"
   ]
  },
  {
   "cell_type": "code",
   "execution_count": 5,
   "metadata": {},
   "outputs": [
    {
     "name": "stdout",
     "output_type": "stream",
     "text": [
      "0\n"
     ]
    }
   ],
   "source": [
    "row_0_column_0 = board[0][0]\n",
    "print(row_0_column_0)"
   ]
  },
  {
   "cell_type": "markdown",
   "metadata": {},
   "source": [
    "We can do this by providing two indexes:"
   ]
  },
  {
   "cell_type": "code",
   "execution_count": 6,
   "metadata": {},
   "outputs": [
    {
     "name": "stdout",
     "output_type": "stream",
     "text": [
      "0\n"
     ]
    }
   ],
   "source": [
    "row_0_column_0 = board[0,0]\n",
    "print(row_0_column_0)"
   ]
  },
  {
   "cell_type": "markdown",
   "metadata": {},
   "source": [
    "For our game however we want to use python tuples. Tuples will let us represent a row and column together as a single thing."
   ]
  },
  {
   "cell_type": "markdown",
   "metadata": {},
   "source": [
    "#### Tuples\n",
    "\n",
    "We represent a point (i.e. a row and column together) as a tuple in python. Creating a tuple is similar to a list, instead of using square brackets, we use round brackets, e.g. (1, 2) is a tuple with two values, 1 and 2. \n",
    "\n",
    "We represent a point on our game board as a tuple (row, column), so the tuple (0, 0) would be the first row, and the first column. The point (2, 1) would be the third row, second column (remember indexes start at 0):"
   ]
  },
  {
   "cell_type": "code",
   "execution_count": 7,
   "metadata": {},
   "outputs": [
    {
     "name": "stdout",
     "output_type": "stream",
     "text": [
      "(0, 0)\n",
      "(2, 1)\n"
     ]
    }
   ],
   "source": [
    "point1 = (0,0)\n",
    "print(point1)\n",
    "\n",
    "point2 = (2,1)\n",
    "print(point2)"
   ]
  },
  {
   "cell_type": "markdown",
   "metadata": {},
   "source": [
    "We can access our the value at our points as follows:"
   ]
  },
  {
   "cell_type": "code",
   "execution_count": 8,
   "metadata": {},
   "outputs": [
    {
     "name": "stdout",
     "output_type": "stream",
     "text": [
      "0\n",
      "2\n"
     ]
    }
   ],
   "source": [
    "row_0_column_0 = board[point1]\n",
    "print(row_0_column_0)\n",
    "\n",
    "row_2_column_1 = board[point2]\n",
    "print(row_2_column_1)"
   ]
  },
  {
   "cell_type": "markdown",
   "metadata": {},
   "source": [
    "### Setting a Value\n",
    "\n",
    "To set a value on the board, we can simply do the following:"
   ]
  },
  {
   "cell_type": "code",
   "execution_count": 9,
   "metadata": {},
   "outputs": [
    {
     "name": "stdout",
     "output_type": "stream",
     "text": [
      "[[2 1 2]\n",
      " [3 4 0]\n",
      " [1 2 3]]\n"
     ]
    }
   ],
   "source": [
    "board[point1] = 2\n",
    "print(board)"
   ]
  },
  {
   "cell_type": "markdown",
   "metadata": {},
   "source": [
    "### Swap Function\n",
    "\n",
    "So for our swap function, we will our board, and the two points we want to swap, called first and second, and do the following:\n",
    " \n",
    "* Get the value at the first point and save it into a temporary variable called tmp\n",
    "* Set the value at the first point to the value of the second point\n",
    "* Set the value at the second point to the tempoarary variable we saved earlier"
   ]
  },
  {
   "cell_type": "code",
   "execution_count": 10,
   "metadata": {},
   "outputs": [],
   "source": [
    "def swap_items(board, first, second):    \n",
    "    # Save the value of the first cell in a temporary variable\n",
    "    tmp = board[first]\n",
    "    # Set the value of the first cell to the value of the second\n",
    "    board[first] = board[second]        \n",
    "    # Set the value of the second cell to the temporary variable we saved earlier\n",
    "    board[second] = tmp   "
   ]
  },
  {
   "cell_type": "markdown",
   "metadata": {},
   "source": [
    "We can test this function now, so lets create a board and display it:"
   ]
  },
  {
   "cell_type": "code",
   "execution_count": 11,
   "metadata": {},
   "outputs": [
    {
     "data": {
      "application/vnd.jupyter.widget-view+json": {
       "model_id": "88c3d03803394fcba91746eb454c3b0b",
       "version_major": 2,
       "version_minor": 0
      },
      "text/plain": [
       "GameGrid()"
      ]
     },
     "metadata": {},
     "output_type": "display_data"
    }
   ],
   "source": [
    "swap_board = np.array([\n",
    "    [0, 1, 2],\n",
    "    [3, 4, 0],\n",
    "    [1, 2, 3]    \n",
    "])\n",
    "show_board(swap_board)"
   ]
  },
  {
   "cell_type": "markdown",
   "metadata": {},
   "source": [
    "Now lets swap the values in cell (0,0) with the value in cell (0,1), and display our grid again."
   ]
  },
  {
   "cell_type": "code",
   "execution_count": 12,
   "metadata": {},
   "outputs": [
    {
     "data": {
      "application/vnd.jupyter.widget-view+json": {
       "model_id": "ba473e11cfb949d2a77cc4dd608a2256",
       "version_major": 2,
       "version_minor": 0
      },
      "text/plain": [
       "GameGrid()"
      ]
     },
     "metadata": {},
     "output_type": "display_data"
    }
   ],
   "source": [
    "# Swap (0,0) with (0, 1)\n",
    "swap_items(swap_board, (0,0), (0,1))\n",
    "# Display the game board\n",
    "show_board(swap_board)"
   ]
  },
  {
   "cell_type": "code",
   "execution_count": 13,
   "metadata": {},
   "outputs": [
    {
     "data": {
      "application/vnd.jupyter.widget-view+json": {
       "model_id": "aef401c832bb42caa973103e4d85e5cc",
       "version_major": 2,
       "version_minor": 0
      },
      "text/plain": [
       "GameGrid()"
      ]
     },
     "metadata": {},
     "output_type": "display_data"
    }
   ],
   "source": [
    "# Swap (0,0) with (2, 2)\n",
    "swap_items(swap_board, (0,0), (2,2))\n",
    "# Display the game board\n",
    "show_board(swap_board)"
   ]
  },
  {
   "cell_type": "markdown",
   "metadata": {},
   "source": [
    "### Swapping only Cells Beside eachother\n",
    "\n",
    "We can swap any two cells, using this function, however in our game, we only want to allow swapping cells beside eachother. So lets add a check to make sure the cells are beside eachother. \n",
    "\n",
    "We must first define what does it mean for a cell to beside another cell? We can say that cells are beside eachother if one cell is to the left, right, directly above, or directly below. \n",
    "\n",
    "One way to do this is to subtract the first point from the second. This will give us an array with two values, the first is the 'distance' in rows, the second is the distance in columns."
   ]
  },
  {
   "cell_type": "code",
   "execution_count": 18,
   "metadata": {},
   "outputs": [
    {
     "name": "stdout",
     "output_type": "stream",
     "text": [
      "[0 1]\n"
     ]
    }
   ],
   "source": [
    "first = (0,0)\n",
    "second = (0,1)\n",
    "diff = np.subtract(second, first)\n",
    "print(diff)"
   ]
  },
  {
   "cell_type": "markdown",
   "metadata": {},
   "source": [
    "So in the above example, the distance in rows is 0, and in columns is 1 - i.e. the second cell is directly below the first.\n",
    "\n",
    "We now need to decide exactly what combinations of these two numbers are ok to swap - so lets look at some examples:\n",
    "\n",
    "| Case | First | Second | Second - First | Beside? |\n",
    "| ---- | ----- | ------ | -------------- | ------- |\n",
    "| Left | (0, 0)| (0, 1) | (0, 1) | Yes |\n",
    "| Below |  (0, 0)| (1, 0) | (1, 0) | Yes |\n",
    "| Down and Left | (0, 0) | (1, 1) | (1, 1) | No |\n",
    "| Right |(0, 1)| (0, 0) | (0, -1) | Yes |\n",
    "| Above | (1, 0) | (0, 0) | (-1, 0) | Yes |\n",
    "| Left 2 Cells | (0, 0) | (0, 2) | (0, 2) | No |\n",
    "| Down 2 Cells | (0, 0) | (0, 2) | (2, 0) | No |\n",
    "\n",
    "From this table we can see that a difference of (0, 1), (1, 0), (0, -1) and (-1, 0) are all ok to swap - and everything else is not. \n",
    "\n",
    "We could just check to make sure that the difference we get when we subtract is one of these four points - but if we look closely at each of the four examples, we can see that each of them has either a 1 or a -1, in it, and the other part of the point is zero. \n",
    "\n",
    "We can turn those -1's into 1's by using the np.abs() function, which gets the absolute value (i.e. the value without any minus sign) of each of the numbers in the point."
   ]
  },
  {
   "cell_type": "code",
   "execution_count": 19,
   "metadata": {},
   "outputs": [
    {
     "name": "stdout",
     "output_type": "stream",
     "text": [
      "[0 1]\n",
      "[1 0]\n"
     ]
    }
   ],
   "source": [
    "right_one = np.abs((0,-1))\n",
    "print(right_one)\n",
    "down_one = np.abs((-1, 0))\n",
    "print(down_one)"
   ]
  },
  {
   "cell_type": "markdown",
   "metadata": {},
   "source": [
    "Now we have only got to deal with two cases, (0, 1) and (1, 0), if we add the numbers in both of these points, we get 1 in both cases - and we do not get 1 for any of the cases where we do not want to swap. So we can use np.sum(..) to add all the values in a point together - so our check now becomes:"
   ]
  },
  {
   "cell_type": "code",
   "execution_count": 21,
   "metadata": {},
   "outputs": [
    {
     "name": "stdout",
     "output_type": "stream",
     "text": [
      "1\n"
     ]
    }
   ],
   "source": [
    "first = (0,0)\n",
    "second = (0,1)\n",
    "diff = np.subtract(second, first)\n",
    "abs_value = np.abs(diff)\n",
    "sum_values = np.sum(abs_value)\n",
    "\n",
    "print(sum_values)"
   ]
  },
  {
   "cell_type": "markdown",
   "metadata": {},
   "source": [
    "And our function becomes:"
   ]
  },
  {
   "cell_type": "code",
   "execution_count": 22,
   "metadata": {},
   "outputs": [],
   "source": [
    "def swap_items(board, first, second):    \n",
    "    # Calculate the 'distance'\n",
    "    dist = np.sum(np.abs(np.subtract(second, first)))\n",
    "    # Two cells are beside eachother if the distance is 1 or 0\n",
    "    is_beside = dist <= 1\n",
    "    # Only swap if they are beside\n",
    "    if(is_beside):\n",
    "        tmp = board[first]\n",
    "        board[first] = board[second]        \n",
    "        board[second] = tmp "
   ]
  },
  {
   "cell_type": "markdown",
   "metadata": {},
   "source": [
    "We can test this with a good swap:"
   ]
  },
  {
   "cell_type": "code",
   "execution_count": 23,
   "metadata": {},
   "outputs": [
    {
     "name": "stdout",
     "output_type": "stream",
     "text": [
      "Before Swap:\n"
     ]
    },
    {
     "data": {
      "application/vnd.jupyter.widget-view+json": {
       "model_id": "bf76a5705d4a4fc7a9a168693fe6398b",
       "version_major": 2,
       "version_minor": 0
      },
      "text/plain": [
       "GameGrid()"
      ]
     },
     "metadata": {},
     "output_type": "display_data"
    },
    {
     "name": "stdout",
     "output_type": "stream",
     "text": [
      "After Swap:\n"
     ]
    },
    {
     "data": {
      "application/vnd.jupyter.widget-view+json": {
       "model_id": "e38091d1cc054799bd6ba301e8482ea8",
       "version_major": 2,
       "version_minor": 0
      },
      "text/plain": [
       "GameGrid()"
      ]
     },
     "metadata": {},
     "output_type": "display_data"
    }
   ],
   "source": [
    "print(\"Before Swap:\")\n",
    "show_board(swap_board)\n",
    "# Swap (0,0) with (0, 1)\n",
    "swap_items(swap_board, (0,0), (0,1))\n",
    "# Display the game board\n",
    "print(\"After Swap:\")\n",
    "show_board(swap_board)"
   ]
  },
  {
   "cell_type": "markdown",
   "metadata": {},
   "source": [
    "... and a bad one:"
   ]
  },
  {
   "cell_type": "code",
   "execution_count": 24,
   "metadata": {},
   "outputs": [
    {
     "name": "stdout",
     "output_type": "stream",
     "text": [
      "Before Swap:\n"
     ]
    },
    {
     "data": {
      "application/vnd.jupyter.widget-view+json": {
       "model_id": "e3ed3a19293d426ba09e8a2f72719c13",
       "version_major": 2,
       "version_minor": 0
      },
      "text/plain": [
       "GameGrid()"
      ]
     },
     "metadata": {},
     "output_type": "display_data"
    },
    {
     "name": "stdout",
     "output_type": "stream",
     "text": [
      "After Swap:\n"
     ]
    },
    {
     "data": {
      "application/vnd.jupyter.widget-view+json": {
       "model_id": "8f74b4faa4bf4d57ad4e3abf74b48be2",
       "version_major": 2,
       "version_minor": 0
      },
      "text/plain": [
       "GameGrid()"
      ]
     },
     "metadata": {},
     "output_type": "display_data"
    }
   ],
   "source": [
    "print(\"Before Swap:\")\n",
    "show_board(swap_board)\n",
    "# Swap (0,0) with (2, 2)\n",
    "swap_items(swap_board, (0,0), (2,2))\n",
    "# Display the game board\n",
    "print(\"After Swap:\")\n",
    "show_board(swap_board)"
   ]
  },
  {
   "cell_type": "markdown",
   "metadata": {},
   "source": [
    "## Summary\n",
    "\n",
    "We are now able to swap two cells that are beside eachother. In the next lesson we will look at: [Matching Tiles](Part3-Matching.ipynb)"
   ]
  },
  {
   "cell_type": "markdown",
   "metadata": {},
   "source": [
    "## Further Reading\n",
    "\n",
    "* [Tuple Python Documentation](https://docs.python.org/3/tutorial/datastructures.html#tuples-and-sequences)\n",
    "* [Tuples in Python Tutorial](https://www.tutorialspoint.com/python/python_tuples.htm)\n",
    "* [Differences between Tuples and Lists](https://stackoverflow.com/questions/626759/whats-the-difference-between-lists-and-tuples)"
   ]
  },
  {
   "cell_type": "code",
   "execution_count": null,
   "metadata": {},
   "outputs": [],
   "source": []
  }
 ],
 "metadata": {
  "kernelspec": {
   "display_name": "Python 3",
   "language": "python",
   "name": "python3"
  },
  "language_info": {
   "codemirror_mode": {
    "name": "ipython",
    "version": 3
   },
   "file_extension": ".py",
   "mimetype": "text/x-python",
   "name": "python",
   "nbconvert_exporter": "python",
   "pygments_lexer": "ipython3",
   "version": "3.6.7"
  }
 },
 "nbformat": 4,
 "nbformat_minor": 2
}

{
 "cells": [
  {
   "cell_type": "markdown",
   "metadata": {},
   "source": [
    "# Candy Crush in Python - Part 4 - Removing Matches and Filling in Blank Spaces\n",
    "\n",
    "In this lesson we will write the code to take the horizontal and vertical matches, remove them from the board, and then fill in the blank spaces with either the tiles from above, or new tiles if there are no tiles above.\n",
    "\n",
    "# Code Recap\n",
    "\n",
    "So far we have:\n",
    "* Our game board and function to display the grid\n",
    "* A function to swap two cells beside eachother\n",
    "* A function to find all matches of a particular length on the board"
   ]
  },
  {
   "cell_type": "code",
   "execution_count": null,
   "metadata": {},
   "outputs": [],
   "source": [
    "import numpy as np\n",
    "from gamegrid import GameGrid\n",
    "from IPython.display import display\n",
    "\n",
    "def show_board(board_array):\n",
    "    grid = GameGrid()\n",
    "    grid.data = board_array\n",
    "    display(grid)\n",
    "    \n",
    "def swap_items(board, first, second):    \n",
    "    dist = np.sum(np.abs(np.subtract(second, first)))\n",
    "    \n",
    "    is_beside = dist <= 1\n",
    "    \n",
    "    if(is_beside):\n",
    "        tmp = board[first]\n",
    "        board[first] = board[second]        \n",
    "        board[second] = tmp \n",
    "\n",
    "def horiz_match_length(board, point):\n",
    "    first = board[point]\n",
    "    (r, c) = point\n",
    "    (row_count, col_count) = board.shape\n",
    "    same_tile_count = 1\n",
    "    \n",
    "    for i in range(c+1, col_count):\n",
    "        if(board[r, i] != first):\n",
    "            return same_tile_count\n",
    "        else:\n",
    "            same_tile_count = same_tile_count + 1\n",
    "            \n",
    "    return same_tile_count\n",
    "\n",
    "def vert_match_length(board, point):\n",
    "    first = board[point]\n",
    "    (r,c) = point\n",
    "    (row_count, col_count) = board.shape\n",
    "    same_tile_count = 1    \n",
    "    \n",
    "    for i in range(r+1, row_count):\n",
    "        if(board[i,c] != first):\n",
    "            return same_tile_count\n",
    "        else:\n",
    "            same_tile_count = same_tile_count + 1\n",
    "            \n",
    "    return same_tile_count\n",
    "\n",
    "def find_matches(board, required_matches):\n",
    "    horiz_matches = []\n",
    "    vert_matches = []\n",
    "    \n",
    "    (row_count, col_count) = board.shape\n",
    "    \n",
    "    for r in range(row_count):\n",
    "        for c in range(col_count):\n",
    "            point = (r,c)\n",
    "            \n",
    "            horiz_len = horiz_match_length(board, point)\n",
    "            if horiz_len >= required_matches:\n",
    "                horiz_matches.append((r, c, horiz_len))  \n",
    "            \n",
    "            vert_len = vert_match_length(board, point)\n",
    "            if vert_len >= required_matches:\n",
    "                vert_matches.append((r, c, vert_len))\n",
    "                \n",
    "    return (horiz_matches, vert_matches)"
   ]
  },
  {
   "cell_type": "markdown",
   "metadata": {},
   "source": [
    "And we can use our code as follows:"
   ]
  },
  {
   "cell_type": "code",
   "execution_count": null,
   "metadata": {},
   "outputs": [],
   "source": [
    "find_all_board = np.array([\n",
    "    [2, 1, 2, 3],\n",
    "    [2, 0, 0, 0],\n",
    "    [2, 3, 0, 3],\n",
    "    [4, 2, 0, 3]    \n",
    "])\n",
    "\n",
    "show_board(find_all_board)\n",
    "\n",
    "(h_matches, v_matches) = find_matches(find_all_board, 3)\n",
    "print(\"Horizontal: \"+ str(h_matches))\n",
    "print(\"Vertical: \" + str(v_matches))"
   ]
  },
  {
   "cell_type": "markdown",
   "metadata": {},
   "source": [
    "## Removing the Matching Tiles\n",
    "\n",
    "In the game, whenever we get three or more of the same tile either horizontally, we want to remove the matching tiles, and the tiles above drop into the space left. We want to be able to display on screen the blank spaces for a brief time before the tiles above drop, so we will do this in two steps. \n",
    "\n",
    "On our game board each of the different gem stones are represented by a number `0`-`4`, we now need to add the concept of an empty space as well. We could just say that an empty space is represented by the number `5`, but there are two issues with this:\n",
    "\n",
    "1. We might decide to add more types of tile later on, which would mean changing all the code that refers to a blank space as `5`. \n",
    "2. A blank space is fundamentally different from the other tiles, we want to make this distinction very clear, which will make the code easier to follow. \n",
    "\n",
    "Normally we would choose pythons 'None' type for this purpose, but our game board is an array of integers, which does not allow 'None', so instead we choose a what is called 'sentinel value' - the number `-1`.\n",
    "\n",
    "We need to now write a function remove_matches() that takes our horizontal and vertical matches and sets all matching tiles to `-1`.\n",
    "\n",
    "### Writing the Function\n",
    "\n",
    "The remove function is quite simple, it loops over our horizontal matche and every vertical match and it sets the value of every cell in that match to the value `-1`. "
   ]
  },
  {
   "cell_type": "code",
   "execution_count": null,
   "metadata": {},
   "outputs": [],
   "source": [
    "def remove_matching_tiles(board, horiz_matches, vert_matches):\n",
    "    for (r, c, length) in horiz_matches:\n",
    "         for i in range(c, c+length):\n",
    "                board[r, i] = -1\n",
    "    \n",
    "    for (r, c, length) in vert_matches:\n",
    "        for i in range(r, r+length):\n",
    "            board[i, c] = -1"
   ]
  },
  {
   "cell_type": "markdown",
   "metadata": {},
   "source": [
    "The function uses a nested for loop (one for loop inside another). Each match consists of a tuple `(r, c, length)` - the row, column and number of cells in the match.\n",
    "\n",
    "The outer loop `for (r, c, length) in horiz_matches:` does two things: first, loop over every horizontal match and second unpack the match tuple into the variables `r`, `c` and `length`.\n",
    "\n",
    "The inner loop `for i in range(c, c+length):` loops over every cell in the match, our match starts at column `c` and ends at that column plus the number of cells in the match which is equal to `c+length`.\n",
    "\n",
    "Inside the inner loop, we set the cell at `(r, i)` to -1.\n",
    "\n",
    "The logic for the vertical matches is the same, except we switch `r` and `i`.\n",
    "\n",
    "### Using The Function\n",
    "\n",
    "So lets test with a new board:"
   ]
  },
  {
   "cell_type": "code",
   "execution_count": null,
   "metadata": {},
   "outputs": [],
   "source": [
    "remove_board = np.array([\n",
    "    [0, 1, 1, 1],\n",
    "    [2, 3, 4, 2],\n",
    "    [2, 4, 3, 1],\n",
    "    [2, 3, 2, 1]\n",
    "])\n",
    "\n",
    "print(remove_board)\n",
    "show_board(remove_board)"
   ]
  },
  {
   "cell_type": "markdown",
   "metadata": {},
   "source": [
    "We can see from this board that we have a match in the first row starting at `(0,1)`, and a match in the first column starting at `(1,0)`, both of length `3`. So lets call our remove_matching_tiles function with these matches and display the result."
   ]
  },
  {
   "cell_type": "code",
   "execution_count": null,
   "metadata": {},
   "outputs": [],
   "source": [
    "h_matches = [[0,1,3]]\n",
    "v_matches = [[1,0,3]]\n",
    "remove_matching_tiles(remove_board, h_matches, v_matches)\n",
    "print(remove_board)"
   ]
  },
  {
   "cell_type": "markdown",
   "metadata": {},
   "source": [
    "When we call our function on the board we see that the matched tiles have now all been replaced with `-1`. When we display our game board now we see that the tiles are all blank."
   ]
  },
  {
   "cell_type": "code",
   "execution_count": null,
   "metadata": {},
   "outputs": [],
   "source": [
    "show_board(remove_board)"
   ]
  },
  {
   "cell_type": "markdown",
   "metadata": {},
   "source": [
    "## Filling the Empty Spaces\n",
    "\n",
    "Now that we have our game grid with all the matching tiles removed, we want to fill them in with new tiles. In the case of our example board above, we want to move the yellow diamond in tile at `(0, 0)` down to `(3, 0)`. We then want to fill any remaining spaces with random gems.\n",
    "\n",
    "### Pulling Cells Down\n",
    "\n",
    "We will start by writing a function that, given an empty cell, it will search for the first non-empty cell above it, and 'pull' the gem down into it.\n",
    "\n",
    "Lets take a specific example: We want a function that when given the cell `(3, 0)` (the blank cell in the last row) will search upwards until it finds the yellow diamond in `(0, 0)` and pull it down. Our function must first check the cell immediately above it `(2, 0)` - which is empty - then the one above that `(1, 0)` - also empty - before finally finding our yellow diamond in cell `(0, 0)`. \n",
    "\n",
    "What we need is a loop that can check the cells `(2,0)`, `(1,0)`, and `(0,0)`. The 0 stays the same each time, all that changes in each iteration is the row - which should run in the order `[2, 1, 0]`. The `range(3)` function will loop in the order `[0, 1, 2]` and we can use the reversed() function to change this to `[2, 1, 0]`:"
   ]
  },
  {
   "cell_type": "code",
   "execution_count": null,
   "metadata": {},
   "outputs": [],
   "source": [
    "r = 3\n",
    "for i in reversed(range(3)):\n",
    "    print(i)"
   ]
  },
  {
   "cell_type": "markdown",
   "metadata": {},
   "source": [
    "We can now use this to loop though all the cells above the cell we are looking at, in this case `(3, 2)`"
   ]
  },
  {
   "cell_type": "code",
   "execution_count": null,
   "metadata": {},
   "outputs": [],
   "source": [
    "r = 3\n",
    "c = 0\n",
    "for i in reversed(range(r)):\n",
    "    print(str((i, c)) + \" = \" + str(remove_board[i, c]))"
   ]
  },
  {
   "cell_type": "markdown",
   "metadata": {},
   "source": [
    "So this loop will allow us to check, the cell immediately above `(2, 0)`, then the next cell up `(1, 0)` and finally the top cell `(0,0)` - which is where we find our yellow diamond.\n",
    "\n",
    "### Creating the Function\n",
    "\n",
    "To create our function, we use this loop to find until we find a tile that does not have the value `-1`, and then pull that tile down, and make the tile it was in blank."
   ]
  },
  {
   "cell_type": "code",
   "execution_count": null,
   "metadata": {},
   "outputs": [],
   "source": [
    "def pull_down_cell(board, point):\n",
    "    (r, c) = point\n",
    "    for r_above in reversed(range(r)):    \n",
    "        if(board[r_above, c] != -1):            \n",
    "            board[r,c] = board[r_above,c]\n",
    "            board[r_above,c] = -1\n",
    "            break"
   ]
  },
  {
   "cell_type": "markdown",
   "metadata": {},
   "source": [
    "### Using the Function\n",
    "\n",
    "We can test this on our game grid:"
   ]
  },
  {
   "cell_type": "code",
   "execution_count": null,
   "metadata": {},
   "outputs": [],
   "source": [
    "pull_down_board = np.array([\n",
    "    [0, -1, -1, -1],\n",
    "    [-1, 3, 4, 2],\n",
    "    [-1, 4, 3, 1],\n",
    "    [-1, 3, 2, 1]\n",
    "])\n",
    "\n",
    "show_board(pull_down_board)"
   ]
  },
  {
   "cell_type": "code",
   "execution_count": null,
   "metadata": {},
   "outputs": [],
   "source": [
    "pull_down_cell(pull_down_board, (3, 0))\n",
    "show_board(pull_down_board)"
   ]
  },
  {
   "cell_type": "markdown",
   "metadata": {},
   "source": [
    "We can see that the yellow diamond has been pulled down into the bottom row.\n",
    "\n",
    "## Filling in Blank Cells\n",
    "\n",
    "What if we try our function on a cell with no gem stones above it e.g. `(2, 0)`?"
   ]
  },
  {
   "cell_type": "code",
   "execution_count": null,
   "metadata": {},
   "outputs": [],
   "source": [
    "pull_down_cell(pull_down_board, (2, 0))\n",
    "show_board(pull_down_board)"
   ]
  },
  {
   "cell_type": "markdown",
   "metadata": {},
   "source": [
    "Nothing changes, because there are no tiles in above to pull down, in this case we just want to put a random gem in the tile. For this we will use numpys's `random.randint()` function. We need to tell `randint(...)` what range of numbers we want. In this example we want numbers from `0`-`4`, which means we should call `np.random.randint(5)`, but we might change the number of types of tile later on, so we should pass this in as a parameter instead:"
   ]
  },
  {
   "cell_type": "code",
   "execution_count": null,
   "metadata": {},
   "outputs": [],
   "source": [
    "def pull_down_cell(board, point, number_of_types):\n",
    "    (r, c) = point\n",
    "    for r_above in reversed(range(r)):    \n",
    "        if(board[r_above, c] != -1):            \n",
    "            board[r,c] = board[r_above,c]\n",
    "            board[r_above,c] = -1\n",
    "            break\n",
    "    # If after we have pulled down the cell is still blank\n",
    "    #  insert a blank cell\n",
    "    if(board[r,c] == -1):\n",
    "        board[r,c] = np.random.randint(number_of_types)"
   ]
  },
  {
   "cell_type": "markdown",
   "metadata": {},
   "source": [
    "And lets try it out:"
   ]
  },
  {
   "cell_type": "code",
   "execution_count": null,
   "metadata": {},
   "outputs": [],
   "source": [
    "pull_down_board = np.array([\n",
    "    [-1, -1, -1, -1],\n",
    "    [-1, 3, 4, 2],\n",
    "    [-1, 4, 3, 1],\n",
    "    [0, 3, 2, 1]\n",
    "])\n",
    "pull_down_cell(pull_down_board, (2, 0), 5)\n",
    "show_board(pull_down_board)"
   ]
  },
  {
   "cell_type": "markdown",
   "metadata": {},
   "source": [
    "## Pulling Down all Cells\n",
    "\n",
    "Now we can see that a random new tile has been added to the `(2, 0)`.\n",
    "Finally, we want to do this for every cell in our grid so we create a function `pull_down_cells()`, that will do this on every cell. We must however do this from the last row to the first - if we went from the first to the last we would still end up with lots of blank spaces left after we have completed. So we will use the `reversed()` function again to do the loop backwards."
   ]
  },
  {
   "cell_type": "code",
   "execution_count": null,
   "metadata": {},
   "outputs": [],
   "source": [
    "def pull_down_cells(board, number_of_types):\n",
    "    for r in reversed(range(board.shape[0])):\n",
    "        for c in range(board.shape[1]):\n",
    "            if(board[r,c] == -1):\n",
    "                pull_down_cell(board, (r, c), number_of_types)"
   ]
  },
  {
   "cell_type": "markdown",
   "metadata": {},
   "source": [
    "Lets recreate our original game grid with the empty spaces and run the `pull_down_cells(...)` function on it."
   ]
  },
  {
   "cell_type": "code",
   "execution_count": null,
   "metadata": {},
   "outputs": [],
   "source": [
    "pull_down_all_board = np.array([\n",
    "    [0, -1, -1, -1],\n",
    "    [-1, 3, 4, 2],\n",
    "    [-1, 4, 3, 1],\n",
    "    [-1, 3, 2, 1]\n",
    "])\n",
    "\n",
    "pull_down_cells(pull_down_all_board, 5)\n",
    "show_board(pull_down_all_board)"
   ]
  },
  {
   "cell_type": "markdown",
   "metadata": {},
   "source": [
    "## Summary\n",
    "\n",
    "In this lesson we learned how to remove the matches that we found in the previous lesson, and to either pull down tiles from above into the empty spaces, or fill an empty space with a random tile if there are no tiles above.\n",
    "\n",
    "In the next section we will look at: [Adding Interactivity](Part5-Interactivity.ipynb)"
   ]
  },
  {
   "cell_type": "code",
   "execution_count": null,
   "metadata": {},
   "outputs": [],
   "source": []
  }
 ],
 "metadata": {
  "kernelspec": {
   "display_name": "Python 3",
   "language": "python",
   "name": "python3"
  },
  "language_info": {
   "codemirror_mode": {
    "name": "ipython",
    "version": 3
   },
   "file_extension": ".py",
   "mimetype": "text/x-python",
   "name": "python",
   "nbconvert_exporter": "python",
   "pygments_lexer": "ipython3",
   "version": "3.6.3"
  }
 },
 "nbformat": 4,
 "nbformat_minor": 2
}

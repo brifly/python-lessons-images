{
 "cells": [
  {
   "cell_type": "markdown",
   "metadata": {},
   "source": [
    "# Candy Crush in Python - Part 1 - Game Representation\n",
    "\n",
    "In this part of the tutorial we will get a basic game board set up and display it on the screen.\n",
    "\n",
    "## Overview\n",
    "\n",
    "We need a way to represent our game in our python program - this means we have to be able to store the state of the game - i.e. where all the gems are on our game board. We will use this representation to draw the game board on the screen and it is this representation we will modify when we want to change something on the board, e.g. when we swap two tiles on the board, or when we want to remove three of the same tile in a row or column.\n",
    "\n",
    "## The Game Board\n",
    "\n",
    "The first thing we need to do is create something to store our game board. The game board consists of a group of cells arranged as rows and columns. Each cell has a gem stone in it. There are 5 different types of gem - so we will use numbers 0-4 to represent each of the different gems:\n",
    "\n",
    "|0&nbsp;&nbsp;&nbsp;&nbsp;|1&nbsp;&nbsp;&nbsp;&nbsp;|2&nbsp;&nbsp;&nbsp;&nbsp;|3&nbsp;&nbsp;&nbsp;&nbsp;|4&nbsp;&nbsp;&nbsp;&nbsp;|\n",
    "|-|-|-|-|-|\n",
    "|![0](https://brifly.github.io/python-lessons-images/diamond.png)| ![1](https://brifly.github.io/python-lessons-images/wdiamond.png) | ![2](https://brifly.github.io/python-lessons-images/precious-stone.png)|![3](https://brifly.github.io/python-lessons-images/jewels.png)|![4](https://brifly.github.io/python-lessons-images/gem.png)|\n",
    "\n",
    "We will represent our game board in a data structure called an array. An array is structure that has a number of slots where we can store different pieces of data. Each slot of the game grid board will be one slot in the array - the slot will store the number that represents a particular gemstone. \n",
    "\n",
    "We need to be able to access the pieces of data in the array and to do this we use an index. Each piece of data in our array has its own index, which is basically the address for that piece of data. In our case we want to store the data in rows and columns so we need two indices, one for the row and one for the column. We will discuss how to do this below. For now, assuming we have this structure:\n",
    "\n",
    "\n",
    "|  . | C0 | C1| C2|\n",
    "| -- | -- | --| --|\n",
    "| R0 | 0  | 1 | 2 |\n",
    "| R1 | 3  | 4 | 0 |\n",
    "| R2 | 1  | 2 | 3 |\n",
    "\n",
    "It would represent the game board:\n",
    "\n",
    "|.| C0 | C1 | C2 |\n",
    "|-| -- | -- | -- |\n",
    "| R0 | ![0](https://brifly.github.io/python-lessons-images/diamond.png) | ![1](https://brifly.github.io/python-lessons-images/wdiamond.png) | ![2](https://brifly.github.io/python-lessons-images/precious-stone.png) |\n",
    "| R1 | ![3](https://brifly.github.io/python-lessons-images/jewels.png) | ![4](https://brifly.github.io/python-lessons-images/gem.png) | ![0](https://brifly.github.io/python-lessons-images/diamond.png) |\n",
    "| R2 | ![1](https://brifly.github.io/python-lessons-images/wdiamond.png)| ![2](https://brifly.github.io/python-lessons-images/precious-stone.png)| ![3](https://brifly.github.io/python-lessons-images/jewels.png) |\n",
    "\n",
    "In these examples R0,R1 and R2 are rows 0, 1 and 2 and C0, C1 and C2 are the columns 0, 1 and 2.\n",
    "\n",
    "So the gem in row 1, column 2 is '0' - which represents the diamond.\n",
    "\n",
    "### Lists\n",
    "\n",
    "A python list, is just a simple list of things. It some values (e.g. numbers or strings) separated by commas, in between some square brackets e.g. [1,2,3] or ['A', 'B', 'C']. \n",
    "\n",
    "We will store the cells in each row in a single list. e.g. [0,1,2] would be the list for our first row in the example above. We will then store each of those rows in another list.\n",
    "\n",
    "Lets begin by creating a list for each row: row1, row2, and row3:"
   ]
  },
  {
   "cell_type": "code",
   "execution_count": 1,
   "metadata": {},
   "outputs": [
    {
     "name": "stdout",
     "output_type": "stream",
     "text": [
      "[0, 1, 2]\n",
      "[3, 4, 0]\n",
      "[1, 2, 3]\n"
     ]
    }
   ],
   "source": [
    "row1 = [0, 1, 2]\n",
    "row2 = [3, 4, 0]\n",
    "row3 = [1, 2, 3]\n",
    "print(row1)\n",
    "print(row2)\n",
    "print(row3)"
   ]
  },
  {
   "cell_type": "markdown",
   "metadata": {},
   "source": [
    "We can then create our list of lists by putting those rows into another list:"
   ]
  },
  {
   "cell_type": "code",
   "execution_count": 2,
   "metadata": {},
   "outputs": [
    {
     "name": "stdout",
     "output_type": "stream",
     "text": [
      "[[0, 1, 2], [3, 4, 0], [1, 2, 3]]\n"
     ]
    }
   ],
   "source": [
    "rows = [row1, row2, row3]\n",
    "print(rows)"
   ]
  },
  {
   "cell_type": "markdown",
   "metadata": {},
   "source": [
    "Or we can do this in a single step:"
   ]
  },
  {
   "cell_type": "code",
   "execution_count": 3,
   "metadata": {},
   "outputs": [
    {
     "name": "stdout",
     "output_type": "stream",
     "text": [
      "[[0, 1, 2], [3, 4, 0], [1, 2, 3]]\n"
     ]
    }
   ],
   "source": [
    "rows = [\n",
    "    [0, 1, 2],\n",
    "    [3, 4, 0],\n",
    "    [1, 2, 3]\n",
    "]\n",
    "print(rows)"
   ]
  },
  {
   "cell_type": "markdown",
   "metadata": {},
   "source": [
    "### Numpy\n",
    "\n",
    "We could leave our game representation here, but working with a list of lists is not ideal. Python has a library called numpy  which makes working with rows and columns of numbers easier, so we will convert our list of lists into a numpy array\n",
    "\n",
    "To use numpy, we need to first import it:"
   ]
  },
  {
   "cell_type": "code",
   "execution_count": 6,
   "metadata": {},
   "outputs": [],
   "source": [
    "import numpy as np"
   ]
  },
  {
   "cell_type": "markdown",
   "metadata": {},
   "source": [
    "By putting 'as np' at the end, it means we can simply use the library by typing 'np' instead of the full name 'numpy'.\n",
    "\n",
    "So now we turn our list of lists into a numpy array by calling np.array(...):"
   ]
  },
  {
   "cell_type": "code",
   "execution_count": 8,
   "metadata": {},
   "outputs": [
    {
     "name": "stdout",
     "output_type": "stream",
     "text": [
      "[[0 1 2]\n",
      " [3 4 0]\n",
      " [1 2 3]]\n"
     ]
    }
   ],
   "source": [
    "rows = [\n",
    "    [0, 1, 2],\n",
    "    [3, 4, 0],\n",
    "    [1, 2, 3]\n",
    "]\n",
    "board = np.array(rows)\n",
    "print(board)"
   ]
  },
  {
   "cell_type": "markdown",
   "metadata": {},
   "source": [
    "We can already see it prints out a little nicer than the list of lists. \n",
    "\n",
    "We can do all the above in a single step:"
   ]
  },
  {
   "cell_type": "code",
   "execution_count": 9,
   "metadata": {},
   "outputs": [
    {
     "name": "stdout",
     "output_type": "stream",
     "text": [
      "[[0 1 2]\n",
      " [3 4 0]\n",
      " [1 2 3]]\n"
     ]
    }
   ],
   "source": [
    "board = np.array([\n",
    "    [0, 1, 2],\n",
    "    [3, 4, 0],\n",
    "    [1, 2, 3]    \n",
    "])\n",
    "print(board)"
   ]
  },
  {
   "cell_type": "markdown",
   "metadata": {},
   "source": [
    "## Display the Game Grid\n",
    "\n",
    "When we print out the game grid we see the numbers in our array, but we would like to see what the actual game board looks like. To do this we will use a library called gamegrid using the import statement. "
   ]
  },
  {
   "cell_type": "code",
   "execution_count": 10,
   "metadata": {},
   "outputs": [],
   "source": [
    "from gamegrid import GameGrid\n",
    "grid = GameGrid()"
   ]
  },
  {
   "cell_type": "markdown",
   "metadata": {},
   "source": [
    "We can use grid.data =  &lt;Numpy Array> to setup our grid"
   ]
  },
  {
   "cell_type": "code",
   "execution_count": 11,
   "metadata": {},
   "outputs": [],
   "source": [
    "board = np.array([\n",
    "    [0,1,2],\n",
    "    [3,4,0]\n",
    "])\n",
    "\n",
    "grid.data = board"
   ]
  },
  {
   "cell_type": "markdown",
   "metadata": {},
   "source": [
    "To display the grid,we use the IPython.display function:"
   ]
  },
  {
   "cell_type": "code",
   "execution_count": 12,
   "metadata": {},
   "outputs": [
    {
     "data": {
      "application/vnd.jupyter.widget-view+json": {
       "model_id": "dfd9e6a76fb24c3d9736083226525f2f",
       "version_major": 2,
       "version_minor": 0
      },
      "text/plain": [
       "GameGrid()"
      ]
     },
     "metadata": {},
     "output_type": "display_data"
    }
   ],
   "source": [
    "from IPython.display import display\n",
    "display(grid)"
   ]
  },
  {
   "cell_type": "markdown",
   "metadata": {},
   "source": [
    "We can create a helper function called show_board that we can use to quickly show what a board looks like."
   ]
  },
  {
   "cell_type": "code",
   "execution_count": 13,
   "metadata": {},
   "outputs": [],
   "source": [
    "def show_board(board_array):\n",
    "    grid = GameGrid()\n",
    "    grid.data = board_array\n",
    "    display(grid)"
   ]
  },
  {
   "cell_type": "markdown",
   "metadata": {},
   "source": [
    "And lets test this function by showing a simple grid."
   ]
  },
  {
   "cell_type": "code",
   "execution_count": 14,
   "metadata": {},
   "outputs": [
    {
     "data": {
      "application/vnd.jupyter.widget-view+json": {
       "model_id": "24c662533fb6441eb9a26cdb82e93d63",
       "version_major": 2,
       "version_minor": 0
      },
      "text/plain": [
       "GameGrid()"
      ]
     },
     "metadata": {},
     "output_type": "display_data"
    }
   ],
   "source": [
    "show_board(np.array([\n",
    "    [0, 1, 2],\n",
    "    [3, 4, 0]\n",
    "]))"
   ]
  },
  {
   "cell_type": "markdown",
   "metadata": {},
   "source": [
    "## Summary\n",
    "\n",
    "In this lesson we covered representing our game as a list of lists and then turning that into a numpy array to make it easier to work with. We also showed how to display our grid on the screen using the gamegrid library.\n",
    "\n",
    "In the next lesson we will build the first bit of functionality for our game: [Swapping Tiles](Part2-Swapping.ipynb)"
   ]
  },
  {
   "cell_type": "code",
   "execution_count": null,
   "metadata": {},
   "outputs": [],
   "source": []
  }
 ],
 "metadata": {
  "kernelspec": {
   "display_name": "Python 3",
   "language": "python",
   "name": "python3"
  },
  "language_info": {
   "codemirror_mode": {
    "name": "ipython",
    "version": 3
   },
   "file_extension": ".py",
   "mimetype": "text/x-python",
   "name": "python",
   "nbconvert_exporter": "python",
   "pygments_lexer": "ipython3",
   "version": "3.6.7"
  }
 },
 "nbformat": 4,
 "nbformat_minor": 2
}
